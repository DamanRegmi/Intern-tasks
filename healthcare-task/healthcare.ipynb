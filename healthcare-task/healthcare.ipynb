{
 "cells": [
  {
   "cell_type": "markdown",
   "id": "0fb25ddd",
   "metadata": {},
   "source": [
    "## Spark Session"
   ]
  },
  {
   "cell_type": "code",
   "execution_count": 2,
   "id": "8d800170",
   "metadata": {},
   "outputs": [
    {
     "name": "stderr",
     "output_type": "stream",
     "text": [
      "25/05/07 07:19:01 WARN Utils: Your hostname, ubuntu resolves to a loopback address: 127.0.1.1; using 10.0.2.15 instead (on interface enp0s3)\n",
      "25/05/07 07:19:01 WARN Utils: Set SPARK_LOCAL_IP if you need to bind to another address\n",
      "Setting default log level to \"WARN\".\n",
      "To adjust logging level use sc.setLogLevel(newLevel). For SparkR, use setLogLevel(newLevel).\n",
      "25/05/07 07:19:02 WARN NativeCodeLoader: Unable to load native-hadoop library for your platform... using builtin-java classes where applicable\n"
     ]
    }
   ],
   "source": [
    "import pyspark.sql.functions as F\n",
    "from pyspark.sql import SparkSession\n",
    "spark=(SparkSession\n",
    "        .builder\n",
    "        .appName(\"SparkApp\")\n",
    "        .getOrCreate())\n"
   ]
  },
  {
   "cell_type": "code",
   "execution_count": 3,
   "id": "62e95f55",
   "metadata": {},
   "outputs": [
    {
     "name": "stdout",
     "output_type": "stream",
     "text": [
      "+-------------------+---+------+----------+-----------------+-----------------+----------------+--------------------+------------------+------------------+-----------+--------------+--------------+-----------+------------+\n",
      "|               Name|Age|Gender|Blood Type|Medical Condition|Date of Admission|          Doctor|            Hospital|Insurance Provider|    Billing Amount|Room Number|Admission Type|Discharge Date| Medication|Test Results|\n",
      "+-------------------+---+------+----------+-----------------+-----------------+----------------+--------------------+------------------+------------------+-----------+--------------+--------------+-----------+------------+\n",
      "|      Bobby JacksOn| 30|  Male|        B-|           Cancer|       2024-01-31|   Matthew Smith|     Sons and Miller|        Blue Cross|18856.281305978155|        328|        Urgent|    2024-02-02|Paracetamol|      Normal|\n",
      "|       LesLie TErRy| 62|  Male|        A+|          Obesity|       2019-08-20| Samantha Davies|             Kim Inc|          Medicare|33643.327286577885|        265|     Emergency|    2019-08-26|  Ibuprofen|Inconclusive|\n",
      "|        DaNnY sMitH| 76|Female|        A-|          Obesity|       2022-09-22|Tiffany Mitchell|            Cook PLC|             Aetna|27955.096078842456|        205|     Emergency|    2022-10-07|    Aspirin|      Normal|\n",
      "|       andrEw waTtS| 28|Female|        O+|         Diabetes|       2020-11-18|     Kevin Wells|Hernandez Rogers ...|          Medicare| 37909.78240987528|        450|      Elective|    2020-12-18|  Ibuprofen|    Abnormal|\n",
      "|      adrIENNE bEll| 43|Female|       AB+|           Cancer|       2022-09-19|  Kathleen Hanna|         White-White|             Aetna|14238.317813937623|        458|        Urgent|    2022-10-09| Penicillin|    Abnormal|\n",
      "|      EMILY JOHNSOn| 36|  Male|        A+|           Asthma|       2023-12-20|   Taylor Newton|      Nunez-Humphrey|  UnitedHealthcare| 48145.11095104189|        389|        Urgent|    2023-12-24|  Ibuprofen|      Normal|\n",
      "|     edwArD EDWaRDs| 21|Female|       AB-|         Diabetes|       2020-11-03|     Kelly Olson|     Group Middleton|          Medicare| 19580.87234486093|        389|     Emergency|    2020-11-15|Paracetamol|Inconclusive|\n",
      "| CHrisTInA MARtinez| 20|Female|        A+|           Cancer|       2021-12-28|  Suzanne Thomas|Powell Robinson a...|             Cigna| 45820.46272159459|        277|     Emergency|    2022-01-07|Paracetamol|Inconclusive|\n",
      "|    JASmINe aGuIlaR| 82|  Male|       AB+|           Asthma|       2020-07-01| Daniel Ferguson|       Sons Rich and|             Cigna|50119.222791548505|        316|      Elective|    2020-07-14|    Aspirin|    Abnormal|\n",
      "|   ChRISTopher BerG| 58|Female|       AB-|           Cancer|       2021-05-23|     Heather Day|      Padilla-Walker|  UnitedHealthcare| 19784.63106221073|        249|      Elective|    2021-06-22|Paracetamol|Inconclusive|\n",
      "|   mIchElLe daniELs| 72|  Male|        O+|           Cancer|       2020-04-19|     John Duncan|     Schaefer-Porter|          Medicare|12576.795609050234|        394|        Urgent|    2020-04-22|Paracetamol|      Normal|\n",
      "|     aaRon MARtiNeZ| 38|Female|        A-|     Hypertension|       2023-08-13|    Douglas Mayo|         Lyons-Blair|          Medicare| 7999.586879604188|        288|        Urgent|    2023-09-05|    Lipitor|Inconclusive|\n",
      "|      connOR HANsEn| 75|Female|        A+|         Diabetes|       2019-12-12|Kenneth Fletcher|Powers Miller, an...|             Cigna| 43282.28335770435|        134|     Emergency|    2019-12-28| Penicillin|    Abnormal|\n",
      "|       rObeRt bAuer| 68|Female|       AB+|           Asthma|       2020-05-22| Theresa Freeman|    Rivera-Gutierrez|  UnitedHealthcare|33207.706633729606|        309|        Urgent|    2020-06-19|    Lipitor|      Normal|\n",
      "|       bROOkE brady| 44|Female|       AB+|           Cancer|       2021-10-08| Roberta Stewart|     Morris-Arellano|  UnitedHealthcare|40701.599227308754|        182|        Urgent|    2021-10-13|Paracetamol|      Normal|\n",
      "| MS. nAtalIE gAMble| 46|Female|       AB-|          Obesity|       2023-01-01| Maria Dougherty|      Cline-Williams|        Blue Cross|12263.357425021362|        465|      Elective|    2023-01-11|    Aspirin|Inconclusive|\n",
      "|      haley perkins| 63|Female|        A+|        Arthritis|       2020-06-23|   Erica Spencer|     Cervantes-Wells|  UnitedHealthcare|24499.847903736576|        114|      Elective|    2020-07-14|Paracetamol|      Normal|\n",
      "|mRS. jamiE cAMPBELl| 38|  Male|       AB-|          Obesity|       2020-03-08|      Justin Kim|Torres, and Harri...|             Cigna|17440.465444124675|        449|        Urgent|    2020-04-02|Paracetamol|    Abnormal|\n",
      "|       LuKE BuRgEss| 34|Female|        A-|     Hypertension|       2021-03-04|Justin Moore Jr.|         Houston PLC|        Blue Cross| 18843.02301783416|        260|      Elective|    2021-03-14|    Aspirin|    Abnormal|\n",
      "|     dANIEL schmIdt| 63|  Male|        B+|           Asthma|       2022-11-15| Denise Galloway|         Hammond Ltd|             Cigna|23762.203579059587|        465|      Elective|    2022-11-22| Penicillin|      Normal|\n",
      "+-------------------+---+------+----------+-----------------+-----------------+----------------+--------------------+------------------+------------------+-----------+--------------+--------------+-----------+------------+\n",
      "only showing top 20 rows\n",
      "\n"
     ]
    }
   ],
   "source": [
    "spark.read.csv(\"/home/daman/Downloads/healthcaredata/healthcare_dataset.csv\",header=True).show()"
   ]
  },
  {
   "cell_type": "code",
   "execution_count": 4,
   "id": "8e21138b",
   "metadata": {},
   "outputs": [
    {
     "name": "stdout",
     "output_type": "stream",
     "text": [
      "               Name  Age  Gender Blood Type Medical Condition  \\\n",
      "1      LesLie TErRy   62    Male         A+           Obesity   \n",
      "12    connOR HANsEn   75  Female         A+          Diabetes   \n",
      "30  ThOMAS MartInEZ   34    Male         B-            Asthma   \n",
      "31  JAmES pattERson   23  Female         A+         Arthritis   \n",
      "36    DEnIse ToRRES   33    Male        AB+          Diabetes   \n",
      "\n",
      "   Date of Admission            Doctor                   Hospital  \\\n",
      "1         2019-08-20   Samantha Davies                    Kim Inc   \n",
      "12        2019-12-12  Kenneth Fletcher  Powers Miller, and Flores   \n",
      "30        2019-08-18       Jacob Huynh                   Hart Ltd   \n",
      "31        2019-11-03  Kristina Frazier              Cruz-Santiago   \n",
      "36        2019-10-14       Laura Myers                 LLC Martin   \n",
      "\n",
      "   Insurance Provider  Billing Amount  Room Number Admission Type  \\\n",
      "1            Medicare    33643.327287          265      Emergency   \n",
      "12              Cigna    43282.283358          134      Emergency   \n",
      "30              Cigna    47909.128810          371         Urgent   \n",
      "31   UnitedHealthcare    25835.323595          108         Urgent   \n",
      "36              Aetna     4397.776995          481         Urgent   \n",
      "\n",
      "   Discharge Date   Medication  Test Results  \n",
      "1      2019-08-26    Ibuprofen  Inconclusive  \n",
      "12     2019-12-28   Penicillin      Abnormal  \n",
      "30     2019-09-01    Ibuprofen  Inconclusive  \n",
      "31     2019-11-29   Penicillin      Abnormal  \n",
      "36     2019-10-19  Paracetamol  Inconclusive  \n"
     ]
    }
   ],
   "source": [
    "import pandas as pd\n",
    "df=pd.read_csv(\"/home/daman/Downloads/healthcaredata/healthcare_dataset.csv\")\n",
    "df['Date of Admission'] = pd.to_datetime(df['Date of Admission'], errors='coerce')\n",
    "\n",
    "df_2019 = df[df['Date of Admission'].dt.year == 2019]\n",
    "print(df_2019.head())"
   ]
  },
  {
   "cell_type": "markdown",
   "id": "c7b3e4ad",
   "metadata": {},
   "source": [
    "## Breakdown by year"
   ]
  },
  {
   "cell_type": "code",
   "execution_count": 5,
   "id": "4585c507",
   "metadata": {},
   "outputs": [],
   "source": [
    "\n",
    "for year in df['Date of Admission'].dt.year.unique():\n",
    "    df[df['Date of Admission'].dt.year==year].to_csv(f\"healthcare_{year}.csv\",index=False)"
   ]
  },
  {
   "cell_type": "code",
   "execution_count": 6,
   "id": "0fec53d1",
   "metadata": {},
   "outputs": [
    {
     "name": "stdout",
     "output_type": "stream",
     "text": [
      "+--------------------+---+------+----------+-----------------+-----------------+----------------+--------------------+------------------+------------------+-----------+--------------+--------------+-----------+------------+\n",
      "|                Name|Age|Gender|Blood Type|Medical Condition|Date of Admission|          Doctor|            Hospital|Insurance Provider|    Billing Amount|Room Number|Admission Type|Discharge Date| Medication|Test Results|\n",
      "+--------------------+---+------+----------+-----------------+-----------------+----------------+--------------------+------------------+------------------+-----------+--------------+--------------+-----------+------------+\n",
      "|        LesLie TErRy| 62|  Male|        A+|          Obesity|       2019-08-20| Samantha Davies|             Kim Inc|          Medicare|33643.327286577885|        265|     Emergency|    2019-08-26|  Ibuprofen|Inconclusive|\n",
      "|       connOR HANsEn| 75|Female|        A+|         Diabetes|       2019-12-12|Kenneth Fletcher|Powers Miller, an...|             Cigna| 43282.28335770435|        134|     Emergency|    2019-12-28| Penicillin|    Abnormal|\n",
      "|     ThOMAS MartInEZ| 34|  Male|        B-|           Asthma|       2019-08-18|     Jacob Huynh|            Hart Ltd|             Cigna| 47909.12880987492|        371|        Urgent|    2019-09-01|  Ibuprofen|Inconclusive|\n",
      "|     JAmES pattERson| 23|Female|        A+|        Arthritis|       2019-11-03|Kristina Frazier|       Cruz-Santiago|  UnitedHealthcare|25835.323594688223|        108|        Urgent|    2019-11-29| Penicillin|    Abnormal|\n",
      "|       DEnIse ToRRES| 33|  Male|       AB+|         Diabetes|       2019-10-14|     Laura Myers|          LLC Martin|             Aetna| 4397.776995413336|        481|        Urgent|    2019-10-19|Paracetamol|Inconclusive|\n",
      "|     BRandOn coLLINS| 77|Female|        O+|           Asthma|       2019-07-19|   Cameron Young|           Lopez PLC|             Cigna|16320.232447271888|        138|        Urgent|    2019-07-29|  Ibuprofen|    Abnormal|\n",
      "|      STepHaNie kEnt| 42|Female|        A-|           Cancer|       2019-06-15|       Mary Moss|       Beck-Galloway|             Aetna|14681.016360125932|        234|     Emergency|    2019-07-05|  Ibuprofen|    Abnormal|\n",
      "|    ASHleY guTIERreZ| 83|  Male|       AB+|          Obesity|       2019-11-06|     Tyler Braun|       Miller-Lawson|             Aetna|24637.090064033247|        333|      Elective|    2019-11-22|Paracetamol|Inconclusive|\n",
      "|        JessIca king| 27|  Male|       AB-|           Cancer|       2019-12-09|    William Hess|     Sons Watson and|          Medicare| 8320.660803287437|        468|        Urgent|    2019-12-21|    Lipitor|    Abnormal|\n",
      "|ChRiStOPhER gOnzAlez| 59|  Male|        B+|         Diabetes|       2019-11-21|   Patricia Dunn|        Rhodes-Carey|          Medicare| 10107.18765105721|        368|     Emergency|    2019-12-08| Penicillin|    Abnormal|\n",
      "|   cathERinE gArDnEr| 79|Female|        A-|     Hypertension|       2019-08-19|      David Ruiz|           James Ltd|          Medicare|25503.673806852043|        144|      Elective|    2019-08-26|    Lipitor|    Abnormal|\n",
      "|      KaTRina maRTin| 47|  Male|        A-|         Diabetes|       2019-07-09|  Patricia Colon|        Group Nguyen|          Medicare| 31516.10073437436|        418|      Elective|    2019-08-05| Penicillin|Inconclusive|\n",
      "|      sARAH CalDweLL| 62|  Male|        A-|          Obesity|       2019-09-30|   Daniel Carson|Pierce Ward, Torr...|             Cigna|3879.0846018133934|        290|      Elective|    2019-10-15|    Aspirin|Inconclusive|\n",
      "|      MIchaEL HUrLEY| 67|  Male|       AB-|          Obesity|       2019-06-02| Jonathan Watson|Garcia, and Bisho...|             Aetna| 3326.382674681516|        424|     Emergency|    2019-06-04|    Lipitor|Inconclusive|\n",
      "|     reBEcCA PARsONs| 37|Female|        O+|           Asthma|       2019-12-02|    Steven Adams|         Group White|             Aetna| 8521.214252671094|        476|      Elective|    2019-12-13| Penicillin|    Abnormal|\n",
      "|   JEssicA gUtiERrEz| 40|  Male|        O+|          Obesity|       2019-08-27|  Crystal Chavez|      Guzman-Carlson|             Aetna| 9585.952127993727|        424|        Urgent|    2019-09-06|    Lipitor|Inconclusive|\n",
      "|       PaUL MaRTinEz| 20|  Male|        B+|     Hypertension|       2019-10-13|   Tracey Spence|Lewis Livingston,...|        Blue Cross|10663.910005038557|        104|     Emergency|    2019-10-16|    Aspirin|      Normal|\n",
      "|     ashLEy ERIcKSoN| 32|Female|       AB-|           Cancer|       2019-11-05|   Gerald Hooper|and Johnson Moore...|             Aetna|-502.5078127009479|        376|        Urgent|    2019-11-23| Penicillin|      Normal|\n",
      "|       aLExiS wilsOn| 68|Female|        B+|        Arthritis|       2019-08-16|    Brian Walton|       Thomas-Kelley|             Aetna|2678.9539360591048|        427|        Urgent|    2019-08-21|Paracetamol|    Abnormal|\n",
      "|      brUcE gOnzaleS| 36|  Male|        O+|        Arthritis|       2019-11-17|  Rebecca Morgan|         Spears-Shah|             Cigna| 36869.72573903982|        368|        Urgent|    2019-12-01| Penicillin|      Normal|\n",
      "+--------------------+---+------+----------+-----------------+-----------------+----------------+--------------------+------------------+------------------+-----------+--------------+--------------+-----------+------------+\n",
      "only showing top 20 rows\n",
      "\n"
     ]
    }
   ],
   "source": [
    "df_2019 = spark.read.csv(\"healthcare_2019.csv\", header=True, inferSchema=True)\n",
    "df_2019.show()"
   ]
  },
  {
   "cell_type": "markdown",
   "id": "0500889d",
   "metadata": {},
   "source": [
    "## Reading Incrementally by Year using spark"
   ]
  },
  {
   "cell_type": "code",
   "execution_count": 7,
   "id": "faa635df",
   "metadata": {},
   "outputs": [
    {
     "name": "stdout",
     "output_type": "stream",
     "text": [
      "+------------+---+------+----------+-----------------+-----------------+---------------+--------+------------------+------------------+-----------+--------------+--------------+----------+------------+\n",
      "|        Name|Age|Gender|Blood Type|Medical Condition|Date of Admission|         Doctor|Hospital|Insurance Provider|    Billing Amount|Room Number|Admission Type|Discharge Date|Medication|Test Results|\n",
      "+------------+---+------+----------+-----------------+-----------------+---------------+--------+------------------+------------------+-----------+--------------+--------------+----------+------------+\n",
      "|LesLie TErRy| 62|  Male|        A+|          Obesity|       2019-08-20|Samantha Davies| Kim Inc|          Medicare|33643.327286577885|        265|     Emergency|    2019-08-26| Ibuprofen|Inconclusive|\n",
      "+------------+---+------+----------+-----------------+-----------------+---------------+--------+------------------+------------------+-----------+--------------+--------------+----------+------------+\n",
      "only showing top 1 row\n",
      "\n",
      "+------------+---+------+----------+-----------------+-----------------+-----------+--------------------+------------------+-----------------+-----------+--------------+--------------+----------+------------+\n",
      "|        Name|Age|Gender|Blood Type|Medical Condition|Date of Admission|     Doctor|            Hospital|Insurance Provider|   Billing Amount|Room Number|Admission Type|Discharge Date|Medication|Test Results|\n",
      "+------------+---+------+----------+-----------------+-----------------+-----------+--------------------+------------------+-----------------+-----------+--------------+--------------+----------+------------+\n",
      "|andrEw waTtS| 28|Female|        O+|         Diabetes|       2020-11-18|Kevin Wells|Hernandez Rogers ...|          Medicare|37909.78240987528|        450|      Elective|    2020-12-18| Ibuprofen|    Abnormal|\n",
      "+------------+---+------+----------+-----------------+-----------------+-----------+--------------------+------------------+-----------------+-----------+--------------+--------------+----------+------------+\n",
      "only showing top 1 row\n",
      "\n",
      "+------------------+---+------+----------+-----------------+-----------------+--------------+--------------------+------------------+-----------------+-----------+--------------+--------------+-----------+------------+\n",
      "|              Name|Age|Gender|Blood Type|Medical Condition|Date of Admission|        Doctor|            Hospital|Insurance Provider|   Billing Amount|Room Number|Admission Type|Discharge Date| Medication|Test Results|\n",
      "+------------------+---+------+----------+-----------------+-----------------+--------------+--------------------+------------------+-----------------+-----------+--------------+--------------+-----------+------------+\n",
      "|CHrisTInA MARtinez| 20|Female|        A+|           Cancer|       2021-12-28|Suzanne Thomas|Powell Robinson a...|             Cigna|45820.46272159459|        277|     Emergency|    2022-01-07|Paracetamol|Inconclusive|\n",
      "+------------------+---+------+----------+-----------------+-----------------+--------------+--------------------+------------------+-----------------+-----------+--------------+--------------+-----------+------------+\n",
      "only showing top 1 row\n",
      "\n",
      "+-----------+---+------+----------+-----------------+-----------------+----------------+--------+------------------+------------------+-----------+--------------+--------------+----------+------------+\n",
      "|       Name|Age|Gender|Blood Type|Medical Condition|Date of Admission|          Doctor|Hospital|Insurance Provider|    Billing Amount|Room Number|Admission Type|Discharge Date|Medication|Test Results|\n",
      "+-----------+---+------+----------+-----------------+-----------------+----------------+--------+------------------+------------------+-----------+--------------+--------------+----------+------------+\n",
      "|DaNnY sMitH| 76|Female|        A-|          Obesity|       2022-09-22|Tiffany Mitchell|Cook PLC|             Aetna|27955.096078842456|        205|     Emergency|    2022-10-07|   Aspirin|      Normal|\n",
      "+-----------+---+------+----------+-----------------+-----------------+----------------+--------+------------------+------------------+-----------+--------------+--------------+----------+------------+\n",
      "only showing top 1 row\n",
      "\n",
      "+-------------+---+------+----------+-----------------+-----------------+-------------+--------------+------------------+-----------------+-----------+--------------+--------------+----------+------------+\n",
      "|         Name|Age|Gender|Blood Type|Medical Condition|Date of Admission|       Doctor|      Hospital|Insurance Provider|   Billing Amount|Room Number|Admission Type|Discharge Date|Medication|Test Results|\n",
      "+-------------+---+------+----------+-----------------+-----------------+-------------+--------------+------------------+-----------------+-----------+--------------+--------------+----------+------------+\n",
      "|EMILY JOHNSOn| 36|  Male|        A+|           Asthma|       2023-12-20|Taylor Newton|Nunez-Humphrey|  UnitedHealthcare|48145.11095104189|        389|        Urgent|    2023-12-24| Ibuprofen|      Normal|\n",
      "+-------------+---+------+----------+-----------------+-----------------+-------------+--------------+------------------+-----------------+-----------+--------------+--------------+----------+------------+\n",
      "only showing top 1 row\n",
      "\n",
      "+-------------+---+------+----------+-----------------+-----------------+-------------+---------------+------------------+------------------+-----------+--------------+--------------+-----------+------------+\n",
      "|         Name|Age|Gender|Blood Type|Medical Condition|Date of Admission|       Doctor|       Hospital|Insurance Provider|    Billing Amount|Room Number|Admission Type|Discharge Date| Medication|Test Results|\n",
      "+-------------+---+------+----------+-----------------+-----------------+-------------+---------------+------------------+------------------+-----------+--------------+--------------+-----------+------------+\n",
      "|Bobby JacksOn| 30|  Male|        B-|           Cancer|       2024-01-31|Matthew Smith|Sons and Miller|        Blue Cross|18856.281305978155|        328|        Urgent|    2024-02-02|Paracetamol|      Normal|\n",
      "+-------------+---+------+----------+-----------------+-----------------+-------------+---------------+------------------+------------------+-----------+--------------+--------------+-----------+------------+\n",
      "only showing top 1 row\n",
      "\n"
     ]
    }
   ],
   "source": [
    "years = [2019,2020,2021,2022,2023,2024]\n",
    "for year in years:\n",
    "    df_year=spark.read.csv(f\"healthcare_{year}.csv\",header=True,inferSchema=True)\n",
    "    df_year.show(1)"
   ]
  },
  {
   "cell_type": "markdown",
   "id": "7d3f81bb",
   "metadata": {},
   "source": [
    "## Star Schema"
   ]
  },
  {
   "cell_type": "code",
   "execution_count": 13,
   "id": "56e13bb5",
   "metadata": {},
   "outputs": [],
   "source": [
    "df['Discharge Date']=pd.to_datetime(df['Discharge Date'],errors='coerce')"
   ]
  },
  {
   "cell_type": "markdown",
   "id": "7435eb46",
   "metadata": {},
   "source": [
    "### Dimension Table\n"
   ]
  },
  {
   "cell_type": "code",
   "execution_count": null,
   "id": "8d5e725e",
   "metadata": {},
   "outputs": [
    {
     "data": {
      "text/html": [
       "<div>\n",
       "<style scoped>\n",
       "    .dataframe tbody tr th:only-of-type {\n",
       "        vertical-align: middle;\n",
       "    }\n",
       "\n",
       "    .dataframe tbody tr th {\n",
       "        vertical-align: top;\n",
       "    }\n",
       "\n",
       "    .dataframe thead th {\n",
       "        text-align: right;\n",
       "    }\n",
       "</style>\n",
       "<table border=\"1\" class=\"dataframe\">\n",
       "  <thead>\n",
       "    <tr style=\"text-align: right;\">\n",
       "      <th></th>\n",
       "      <th>Name</th>\n",
       "      <th>Age</th>\n",
       "      <th>Gender</th>\n",
       "      <th>Blood Type</th>\n",
       "      <th>PatientID</th>\n",
       "    </tr>\n",
       "  </thead>\n",
       "  <tbody>\n",
       "    <tr>\n",
       "      <th>0</th>\n",
       "      <td>Bobby JacksOn</td>\n",
       "      <td>30</td>\n",
       "      <td>Male</td>\n",
       "      <td>B-</td>\n",
       "      <td>1</td>\n",
       "    </tr>\n",
       "    <tr>\n",
       "      <th>1</th>\n",
       "      <td>LesLie TErRy</td>\n",
       "      <td>62</td>\n",
       "      <td>Male</td>\n",
       "      <td>A+</td>\n",
       "      <td>2</td>\n",
       "    </tr>\n",
       "    <tr>\n",
       "      <th>2</th>\n",
       "      <td>DaNnY sMitH</td>\n",
       "      <td>76</td>\n",
       "      <td>Female</td>\n",
       "      <td>A-</td>\n",
       "      <td>3</td>\n",
       "    </tr>\n",
       "    <tr>\n",
       "      <th>3</th>\n",
       "      <td>andrEw waTtS</td>\n",
       "      <td>28</td>\n",
       "      <td>Female</td>\n",
       "      <td>O+</td>\n",
       "      <td>4</td>\n",
       "    </tr>\n",
       "    <tr>\n",
       "      <th>4</th>\n",
       "      <td>adrIENNE bEll</td>\n",
       "      <td>43</td>\n",
       "      <td>Female</td>\n",
       "      <td>AB+</td>\n",
       "      <td>5</td>\n",
       "    </tr>\n",
       "    <tr>\n",
       "      <th>...</th>\n",
       "      <td>...</td>\n",
       "      <td>...</td>\n",
       "      <td>...</td>\n",
       "      <td>...</td>\n",
       "      <td>...</td>\n",
       "    </tr>\n",
       "    <tr>\n",
       "      <th>54961</th>\n",
       "      <td>eLIZABeTH jaCkSOn</td>\n",
       "      <td>42</td>\n",
       "      <td>Female</td>\n",
       "      <td>O+</td>\n",
       "      <td>54962</td>\n",
       "    </tr>\n",
       "    <tr>\n",
       "      <th>54962</th>\n",
       "      <td>KYle pEREz</td>\n",
       "      <td>61</td>\n",
       "      <td>Female</td>\n",
       "      <td>AB-</td>\n",
       "      <td>54963</td>\n",
       "    </tr>\n",
       "    <tr>\n",
       "      <th>54963</th>\n",
       "      <td>HEATher WaNG</td>\n",
       "      <td>38</td>\n",
       "      <td>Female</td>\n",
       "      <td>B+</td>\n",
       "      <td>54964</td>\n",
       "    </tr>\n",
       "    <tr>\n",
       "      <th>54964</th>\n",
       "      <td>JENniFER JOneS</td>\n",
       "      <td>43</td>\n",
       "      <td>Male</td>\n",
       "      <td>O-</td>\n",
       "      <td>54965</td>\n",
       "    </tr>\n",
       "    <tr>\n",
       "      <th>54965</th>\n",
       "      <td>jAMES GARCiA</td>\n",
       "      <td>53</td>\n",
       "      <td>Female</td>\n",
       "      <td>O+</td>\n",
       "      <td>54966</td>\n",
       "    </tr>\n",
       "  </tbody>\n",
       "</table>\n",
       "<p>54966 rows × 5 columns</p>\n",
       "</div>"
      ],
      "text/plain": [
       "                    Name  Age  Gender Blood Type  PatientID\n",
       "0          Bobby JacksOn   30    Male         B-          1\n",
       "1           LesLie TErRy   62    Male         A+          2\n",
       "2            DaNnY sMitH   76  Female         A-          3\n",
       "3           andrEw waTtS   28  Female         O+          4\n",
       "4          adrIENNE bEll   43  Female        AB+          5\n",
       "...                  ...  ...     ...        ...        ...\n",
       "54961  eLIZABeTH jaCkSOn   42  Female         O+      54962\n",
       "54962         KYle pEREz   61  Female        AB-      54963\n",
       "54963       HEATher WaNG   38  Female         B+      54964\n",
       "54964     JENniFER JOneS   43    Male         O-      54965\n",
       "54965       jAMES GARCiA   53  Female         O+      54966\n",
       "\n",
       "[54966 rows x 5 columns]"
      ]
     },
     "metadata": {},
     "output_type": "display_data"
    }
   ],
   "source": [
    "patient=df[['Name','Age','Gender','Blood Type']].drop_duplicates().reset_index(drop=True)\n",
    "patient['PatientID']=patient.index+1\n",
    "display(patient)\n"
   ]
  },
  {
   "cell_type": "code",
   "execution_count": 42,
   "id": "4a053f0e",
   "metadata": {},
   "outputs": [
    {
     "name": "stdout",
     "output_type": "stream",
     "text": [
      "             Doctor  DoctorID\n",
      "0     Matthew Smith         1\n",
      "1   Samantha Davies         2\n",
      "2  Tiffany Mitchell         3\n",
      "3       Kevin Wells         4\n",
      "4    Kathleen Hanna         5\n"
     ]
    }
   ],
   "source": [
    "doctor=df[['Doctor']].drop_duplicates().reset_index(drop=True)\n",
    "doctor['DoctorID']=doctor.index+1\n",
    "print(doctor.head())"
   ]
  },
  {
   "cell_type": "code",
   "execution_count": 43,
   "id": "1f423a07",
   "metadata": {},
   "outputs": [
    {
     "name": "stdout",
     "output_type": "stream",
     "text": [
      "                     Hospital  HospitalID\n",
      "0             Sons and Miller           1\n",
      "1                     Kim Inc           2\n",
      "2                    Cook PLC           3\n",
      "3  Hernandez Rogers and Vang,           4\n",
      "4                 White-White           5\n"
     ]
    }
   ],
   "source": [
    "hospital=df[['Hospital']].drop_duplicates().reset_index(drop=True)\n",
    "hospital['HospitalID']=hospital.index+1\n",
    "print(hospital.head())"
   ]
  },
  {
   "cell_type": "code",
   "execution_count": 44,
   "id": "946b4ae6",
   "metadata": {},
   "outputs": [
    {
     "name": "stdout",
     "output_type": "stream",
     "text": [
      "  Insurance Provider  InsuranceID\n",
      "0         Blue Cross            1\n",
      "1           Medicare            2\n",
      "2              Aetna            3\n",
      "3   UnitedHealthcare            4\n",
      "4              Cigna            5\n"
     ]
    }
   ],
   "source": [
    "insurance=df[['Insurance Provider']].drop_duplicates().reset_index(drop=True)\n",
    "insurance['InsuranceID']=insurance.index+1\n",
    "print(insurance.head())"
   ]
  },
  {
   "cell_type": "code",
   "execution_count": 45,
   "id": "3b42ec7c",
   "metadata": {},
   "outputs": [
    {
     "name": "stdout",
     "output_type": "stream",
     "text": [
      "    Medication  MedicationID\n",
      "0  Paracetamol             1\n",
      "1    Ibuprofen             2\n",
      "2      Aspirin             3\n",
      "3   Penicillin             4\n",
      "4      Lipitor             5\n"
     ]
    }
   ],
   "source": [
    "medication=df[['Medication']].drop_duplicates().reset_index(drop=True)\n",
    "medication['MedicationID']=medication.index+1\n",
    "print(medication.head())"
   ]
  },
  {
   "cell_type": "code",
   "execution_count": null,
   "id": "fdd9cc5c",
   "metadata": {},
   "outputs": [],
   "source": [
    "date=df[['Date of Admission']].drop_duplicates().reset_index(drop=True)\n",
    "date['DateID']=date.index+1\n",
    "print(date.head())"
   ]
  }
 ],
 "metadata": {
  "kernelspec": {
   "display_name": "venv",
   "language": "python",
   "name": "python3"
  },
  "language_info": {
   "codemirror_mode": {
    "name": "ipython",
    "version": 3
   },
   "file_extension": ".py",
   "mimetype": "text/x-python",
   "name": "python",
   "nbconvert_exporter": "python",
   "pygments_lexer": "ipython3",
   "version": "3.12.3"
  }
 },
 "nbformat": 4,
 "nbformat_minor": 5
}
