{
 "cells": [
  {
   "cell_type": "code",
   "execution_count": null,
   "id": "a429789e",
   "metadata": {},
   "outputs": [],
   "source": [
    "import pyspark.sql.functions as F\n",
    "from pyspark.sql.window import Window\n",
    "from pyspark.sql import SparkSession\n",
    "spark=(SparkSession\n",
    "        .builder\n",
    "        .appName(\"SparkApp\")\n",
    "        .getOrCreate())\n"
   ]
  }
 ],
 "metadata": {
  "language_info": {
   "name": "python"
  }
 },
 "nbformat": 4,
 "nbformat_minor": 5
}
