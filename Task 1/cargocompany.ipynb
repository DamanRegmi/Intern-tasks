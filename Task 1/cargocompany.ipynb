{
 "cells": [
  {
   "cell_type": "code",
   "execution_count": 1,
   "metadata": {},
   "outputs": [],
   "source": [
    "from bs4 import BeautifulSoup\n",
    "import requests\n",
    "import pandas as pd\n",
    "\n"
   ]
  },
  {
   "cell_type": "code",
   "execution_count": 3,
   "metadata": {},
   "outputs": [
    {
     "name": "stdout",
     "output_type": "stream",
     "text": [
      "5806\n"
     ]
    }
   ],
   "source": [
    "\n",
    "all_details=[]\n",
    "\n",
    "for x in range(1,582):\n",
    "    r= requests.get(f\"https://www.iata.org/en/publications/directories/cargolink/directory/?page={x}&search=&ordering=Alphabetical\")\n",
    "    soup=BeautifulSoup(r.text,\"html\")\n",
    "    rows=soup.find(\"tbody\").find_all(\"tr\")\n",
    "    for row in rows:\n",
    "        col= row.find_all(\"td\")\n",
    "        name=col[1].text.strip()\n",
    "        type=col[2].text.strip()\n",
    "        country=col[3].text.strip()\n",
    "        try:\n",
    "            city=col[4].text.strip()\n",
    "        except:\n",
    "            city=\"None\"\n",
    "        details={\n",
    "        'Name':name,\n",
    "        'Company Type':type,\n",
    "        'Country':country,\n",
    "        'City':city\n",
    "        }\n",
    "        all_details.append(details)\n",
    "print(len(all_details) )   "
   ]
  },
  {
   "cell_type": "code",
   "execution_count": 4,
   "metadata": {},
   "outputs": [
    {
     "name": "stdout",
     "output_type": "stream",
     "text": [
      "                                                  Name  \\\n",
      "0                       1st Move International Limited   \n",
      "1                             AAT Training Hub Pte Ltd   \n",
      "2     ACT Multinational Transportation Logistics., Ltd   \n",
      "3                             Aeroflot Aviation School   \n",
      "4             Africa Global Logistics Tanzania Limited   \n",
      "...                                                ...   \n",
      "5801                                 Freight Forwarder   \n",
      "5802                                 Freight Forwarder   \n",
      "5803                                 Freight Forwarder   \n",
      "5804                                 Freight Forwarder   \n",
      "5805                                 Freight Forwarder   \n",
      "\n",
      "                      Company Type                       Country  \\\n",
      "0                Freight Forwarder                United Kingdom   \n",
      "1       Accredited Training School                     Singapore   \n",
      "2                Freight Forwarder                       Vietnam   \n",
      "3       Accredited Training School            Russian Federation   \n",
      "4                Freight Forwarder  Tanzania, United Republic of   \n",
      "...                            ...                           ...   \n",
      "5801                        Israel               RAMAT GAN 52520   \n",
      "5802  China (People's Republic of)      SHANGHAI SHANGHAI 201824   \n",
      "5803                       Germany          85570 Markt Schwaben   \n",
      "5804        Hong Kong (SAR), China     HONG KONG HONG KONG (SAR)   \n",
      "5805                 United States              HANOVER MD 21076   \n",
      "\n",
      "                  City  \n",
      "0              Bristol  \n",
      "1     Singapore 211672  \n",
      "2               Ha Noi  \n",
      "3               Moscow  \n",
      "4        Dar es Salaam  \n",
      "...                ...  \n",
      "5801              None  \n",
      "5802              None  \n",
      "5803              None  \n",
      "5804              None  \n",
      "5805              None  \n",
      "\n",
      "[5806 rows x 4 columns]\n"
     ]
    }
   ],
   "source": [
    "\n",
    "df=pd.DataFrame(all_details)\n",
    "print(df)"
   ]
  },
  {
   "cell_type": "code",
   "execution_count": 5,
   "metadata": {},
   "outputs": [],
   "source": [
    "df.to_csv(\"cargodata.csv\",index=False)"
   ]
  }
 ],
 "metadata": {
  "kernelspec": {
   "display_name": "base",
   "language": "python",
   "name": "python3"
  },
  "language_info": {
   "codemirror_mode": {
    "name": "ipython",
    "version": 3
   },
   "file_extension": ".py",
   "mimetype": "text/x-python",
   "name": "python",
   "nbconvert_exporter": "python",
   "pygments_lexer": "ipython3",
   "version": "3.11.5"
  }
 },
 "nbformat": 4,
 "nbformat_minor": 2
}
