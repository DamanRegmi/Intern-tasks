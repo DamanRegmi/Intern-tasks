{
 "cells": [
  {
   "cell_type": "markdown",
   "id": "2548b920",
   "metadata": {},
   "source": [
    "## LIBRARIES"
   ]
  },
  {
   "cell_type": "code",
   "execution_count": 21,
   "id": "e22c4ac7-1aed-451b-97d0-1a4da4c0a6d9",
   "metadata": {},
   "outputs": [],
   "source": [
    "import os\n",
    "import pyspark.sql.functions as F"
   ]
  },
  {
   "cell_type": "code",
   "execution_count": 22,
   "id": "04b68cd2-b6ce-4c4d-9649-0a996bcd258e",
   "metadata": {},
   "outputs": [
    {
     "data": {
      "text/plain": [
       "['users_data.csv',\n",
       " 'transactions_data.csv',\n",
       " 'mcc_codes.json',\n",
       " 'train_fraud_labels.json',\n",
       " 'cards_data.csv']"
      ]
     },
     "execution_count": 22,
     "metadata": {},
     "output_type": "execute_result"
    }
   ],
   "source": [
    "os.listdir('/home/daman/Downloads/financial_trans')"
   ]
  },
  {
   "cell_type": "markdown",
   "id": "fad9434c",
   "metadata": {},
   "source": [
    "## SPARK SESSION"
   ]
  },
  {
   "cell_type": "code",
   "execution_count": 23,
   "id": "44e477c5-6b89-49de-bc9a-127995500136",
   "metadata": {},
   "outputs": [],
   "source": [
    "from pyspark.sql import SparkSession\n",
    "spark=(SparkSession\n",
    "        .builder\n",
    "        .appName(\"SparkApp\")\n",
    "        .getOrCreate())\n"
   ]
  },
  {
   "cell_type": "code",
   "execution_count": 24,
   "id": "3553f18b-0b7d-451b-8750-c4d52015109c",
   "metadata": {},
   "outputs": [
    {
     "data": {
      "text/html": [
       "\n",
       "            <div>\n",
       "                <p><b>SparkSession - in-memory</b></p>\n",
       "                \n",
       "        <div>\n",
       "            <p><b>SparkContext</b></p>\n",
       "\n",
       "            <p><a href=\"http://10.0.2.15:4041\">Spark UI</a></p>\n",
       "\n",
       "            <dl>\n",
       "              <dt>Version</dt>\n",
       "                <dd><code>v3.5.5</code></dd>\n",
       "              <dt>Master</dt>\n",
       "                <dd><code>local[*]</code></dd>\n",
       "              <dt>AppName</dt>\n",
       "                <dd><code>SparkApp</code></dd>\n",
       "            </dl>\n",
       "        </div>\n",
       "        \n",
       "            </div>\n",
       "        "
      ],
      "text/plain": [
       "<pyspark.sql.session.SparkSession at 0x7fbd0850fe00>"
      ]
     },
     "execution_count": 24,
     "metadata": {},
     "output_type": "execute_result"
    }
   ],
   "source": [
    "spark"
   ]
  },
  {
   "cell_type": "markdown",
   "id": "fa1f313b",
   "metadata": {},
   "source": [
    "## RAW_USERS"
   ]
  },
  {
   "cell_type": "code",
   "execution_count": 25,
   "id": "46364565-8dee-4d81-9fa5-dbf3562540ab",
   "metadata": {},
   "outputs": [
    {
     "name": "stdout",
     "output_type": "stream",
     "text": [
      "+---+-----------+--------------+----------+-----------+------+-------------+--------+---------+-----------------+-------------+----------+------------+----------------+\n",
      "| id|current_age|retirement_age|birth_year|birth_month|gender|      address|latitude|longitude|per_capita_income|yearly_income|total_debt|credit_score|num_credit_cards|\n",
      "+---+-----------+--------------+----------+-----------+------+-------------+--------+---------+-----------------+-------------+----------+------------+----------------+\n",
      "|825|         53|            66|      1966|         11|Female|462 Rose Lane|   34.15|  -117.76|           $29278|       $59696|   $127613|         787|               5|\n",
      "+---+-----------+--------------+----------+-----------+------+-------------+--------+---------+-----------------+-------------+----------+------------+----------------+\n",
      "\n"
     ]
    }
   ],
   "source": [
    "df1=spark.read.csv(\"/home/daman/Downloads/financial_trans/users_data.csv\",header=True)\n",
    "df1.createOrReplaceTempView('users_data')\n",
    "\n",
    "df1.limit(1).show()\n"
   ]
  },
  {
   "cell_type": "code",
   "execution_count": 26,
   "id": "3bfc3ab5",
   "metadata": {},
   "outputs": [],
   "source": [
    "df1.write.mode(\"overwrite\").parquet(\"./output/raw_users\")"
   ]
  },
  {
   "cell_type": "code",
   "execution_count": 27,
   "id": "8c4d3dfc",
   "metadata": {},
   "outputs": [],
   "source": [
    "with open (\"/home/daman/Downloads/notebooks/financial-task/query/raw_users.sql\") as f:\n",
    "    users=f.read()"
   ]
  },
  {
   "cell_type": "code",
   "execution_count": 28,
   "id": "8c2dbec9-f029-4dc9-88d8-e7a52a873055",
   "metadata": {},
   "outputs": [
    {
     "data": {
      "text/html": [
       "<div>\n",
       "<style scoped>\n",
       "    .dataframe tbody tr th:only-of-type {\n",
       "        vertical-align: middle;\n",
       "    }\n",
       "\n",
       "    .dataframe tbody tr th {\n",
       "        vertical-align: top;\n",
       "    }\n",
       "\n",
       "    .dataframe thead th {\n",
       "        text-align: right;\n",
       "    }\n",
       "</style>\n",
       "<table border=\"1\" class=\"dataframe\">\n",
       "  <thead>\n",
       "    <tr style=\"text-align: right;\">\n",
       "      <th></th>\n",
       "      <th>id</th>\n",
       "      <th>gender</th>\n",
       "      <th>birth_date</th>\n",
       "      <th>address</th>\n",
       "      <th>yearly_income</th>\n",
       "      <th>total_debt</th>\n",
       "      <th>credit_score</th>\n",
       "      <th>credit_rating</th>\n",
       "      <th>num_credit_cards</th>\n",
       "      <th>retirement_age</th>\n",
       "      <th>years_for_retirement</th>\n",
       "    </tr>\n",
       "  </thead>\n",
       "  <tbody>\n",
       "    <tr>\n",
       "      <th>0</th>\n",
       "      <td>825</td>\n",
       "      <td>Female</td>\n",
       "      <td>1966-11-01</td>\n",
       "      <td>462 Rose Lane</td>\n",
       "      <td>59696.000</td>\n",
       "      <td>127613.000</td>\n",
       "      <td>787</td>\n",
       "      <td>4</td>\n",
       "      <td>5</td>\n",
       "      <td>66</td>\n",
       "      <td>7</td>\n",
       "    </tr>\n",
       "    <tr>\n",
       "      <th>1</th>\n",
       "      <td>1746</td>\n",
       "      <td>Female</td>\n",
       "      <td>1966-12-01</td>\n",
       "      <td>3606 Federal Boulevard</td>\n",
       "      <td>77254.000</td>\n",
       "      <td>191349.000</td>\n",
       "      <td>701</td>\n",
       "      <td>3</td>\n",
       "      <td>5</td>\n",
       "      <td>68</td>\n",
       "      <td>9</td>\n",
       "    </tr>\n",
       "    <tr>\n",
       "      <th>2</th>\n",
       "      <td>1718</td>\n",
       "      <td>Female</td>\n",
       "      <td>1938-11-01</td>\n",
       "      <td>766 Third Drive</td>\n",
       "      <td>33483.000</td>\n",
       "      <td>196.000</td>\n",
       "      <td>698</td>\n",
       "      <td>3</td>\n",
       "      <td>5</td>\n",
       "      <td>67</td>\n",
       "      <td>-20</td>\n",
       "    </tr>\n",
       "    <tr>\n",
       "      <th>3</th>\n",
       "      <td>708</td>\n",
       "      <td>Female</td>\n",
       "      <td>1957-01-01</td>\n",
       "      <td>3 Madison Street</td>\n",
       "      <td>249925.000</td>\n",
       "      <td>202328.000</td>\n",
       "      <td>722</td>\n",
       "      <td>3</td>\n",
       "      <td>4</td>\n",
       "      <td>63</td>\n",
       "      <td>-5</td>\n",
       "    </tr>\n",
       "    <tr>\n",
       "      <th>4</th>\n",
       "      <td>1164</td>\n",
       "      <td>Male</td>\n",
       "      <td>1976-09-01</td>\n",
       "      <td>9620 Valley Stream Drive</td>\n",
       "      <td>109687.000</td>\n",
       "      <td>183855.000</td>\n",
       "      <td>675</td>\n",
       "      <td>3</td>\n",
       "      <td>1</td>\n",
       "      <td>70</td>\n",
       "      <td>21</td>\n",
       "    </tr>\n",
       "    <tr>\n",
       "      <th>...</th>\n",
       "      <td>...</td>\n",
       "      <td>...</td>\n",
       "      <td>...</td>\n",
       "      <td>...</td>\n",
       "      <td>...</td>\n",
       "      <td>...</td>\n",
       "      <td>...</td>\n",
       "      <td>...</td>\n",
       "      <td>...</td>\n",
       "      <td>...</td>\n",
       "      <td>...</td>\n",
       "    </tr>\n",
       "    <tr>\n",
       "      <th>1995</th>\n",
       "      <td>986</td>\n",
       "      <td>Male</td>\n",
       "      <td>1987-07-01</td>\n",
       "      <td>6577 Lexington Lane</td>\n",
       "      <td>48010.000</td>\n",
       "      <td>87837.000</td>\n",
       "      <td>703</td>\n",
       "      <td>3</td>\n",
       "      <td>3</td>\n",
       "      <td>70</td>\n",
       "      <td>32</td>\n",
       "    </tr>\n",
       "    <tr>\n",
       "      <th>1996</th>\n",
       "      <td>1944</td>\n",
       "      <td>Female</td>\n",
       "      <td>1957-11-01</td>\n",
       "      <td>2 Elm Drive</td>\n",
       "      <td>49378.000</td>\n",
       "      <td>104480.000</td>\n",
       "      <td>740</td>\n",
       "      <td>4</td>\n",
       "      <td>4</td>\n",
       "      <td>65</td>\n",
       "      <td>-3</td>\n",
       "    </tr>\n",
       "    <tr>\n",
       "      <th>1997</th>\n",
       "      <td>185</td>\n",
       "      <td>Female</td>\n",
       "      <td>1973-01-01</td>\n",
       "      <td>276 Fifth Boulevard</td>\n",
       "      <td>30942.000</td>\n",
       "      <td>71066.000</td>\n",
       "      <td>779</td>\n",
       "      <td>4</td>\n",
       "      <td>3</td>\n",
       "      <td>67</td>\n",
       "      <td>15</td>\n",
       "    </tr>\n",
       "    <tr>\n",
       "      <th>1998</th>\n",
       "      <td>1007</td>\n",
       "      <td>Male</td>\n",
       "      <td>1954-02-01</td>\n",
       "      <td>259 Valley Boulevard</td>\n",
       "      <td>54654.000</td>\n",
       "      <td>27241.000</td>\n",
       "      <td>618</td>\n",
       "      <td>2</td>\n",
       "      <td>1</td>\n",
       "      <td>60</td>\n",
       "      <td>-11</td>\n",
       "    </tr>\n",
       "    <tr>\n",
       "      <th>1999</th>\n",
       "      <td>1110</td>\n",
       "      <td>Female</td>\n",
       "      <td>1998-11-01</td>\n",
       "      <td>472 Ocean View Street</td>\n",
       "      <td>65909.000</td>\n",
       "      <td>181261.000</td>\n",
       "      <td>673</td>\n",
       "      <td>3</td>\n",
       "      <td>2</td>\n",
       "      <td>60</td>\n",
       "      <td>33</td>\n",
       "    </tr>\n",
       "  </tbody>\n",
       "</table>\n",
       "<p>2000 rows × 11 columns</p>\n",
       "</div>"
      ],
      "text/plain": [
       "        id  gender  birth_date                   address yearly_income  \\\n",
       "0      825  Female  1966-11-01             462 Rose Lane     59696.000   \n",
       "1     1746  Female  1966-12-01    3606 Federal Boulevard     77254.000   \n",
       "2     1718  Female  1938-11-01           766 Third Drive     33483.000   \n",
       "3      708  Female  1957-01-01          3 Madison Street    249925.000   \n",
       "4     1164    Male  1976-09-01  9620 Valley Stream Drive    109687.000   \n",
       "...    ...     ...         ...                       ...           ...   \n",
       "1995   986    Male  1987-07-01       6577 Lexington Lane     48010.000   \n",
       "1996  1944  Female  1957-11-01               2 Elm Drive     49378.000   \n",
       "1997   185  Female  1973-01-01       276 Fifth Boulevard     30942.000   \n",
       "1998  1007    Male  1954-02-01      259 Valley Boulevard     54654.000   \n",
       "1999  1110  Female  1998-11-01     472 Ocean View Street     65909.000   \n",
       "\n",
       "      total_debt  credit_score  credit_rating  num_credit_cards  \\\n",
       "0     127613.000           787              4                 5   \n",
       "1     191349.000           701              3                 5   \n",
       "2        196.000           698              3                 5   \n",
       "3     202328.000           722              3                 4   \n",
       "4     183855.000           675              3                 1   \n",
       "...          ...           ...            ...               ...   \n",
       "1995   87837.000           703              3                 3   \n",
       "1996  104480.000           740              4                 4   \n",
       "1997   71066.000           779              4                 3   \n",
       "1998   27241.000           618              2                 1   \n",
       "1999  181261.000           673              3                 2   \n",
       "\n",
       "      retirement_age  years_for_retirement  \n",
       "0                 66                     7  \n",
       "1                 68                     9  \n",
       "2                 67                   -20  \n",
       "3                 63                    -5  \n",
       "4                 70                    21  \n",
       "...              ...                   ...  \n",
       "1995              70                    32  \n",
       "1996              65                    -3  \n",
       "1997              67                    15  \n",
       "1998              60                   -11  \n",
       "1999              60                    33  \n",
       "\n",
       "[2000 rows x 11 columns]"
      ]
     },
     "execution_count": 28,
     "metadata": {},
     "output_type": "execute_result"
    }
   ],
   "source": [
    "\n",
    "spark.sql(users).toPandas()\n",
    "# spark.sql(\"SELECT * FROM RAW_USERS\").toPandas().head(2)\n"
   ]
  },
  {
   "cell_type": "markdown",
   "id": "dfa1c81c",
   "metadata": {},
   "source": [
    "<!-- RAW_CARDS -->"
   ]
  },
  {
   "cell_type": "markdown",
   "id": "70ffa483",
   "metadata": {},
   "source": [
    "## RAW_CARDS"
   ]
  },
  {
   "cell_type": "code",
   "execution_count": 29,
   "id": "87831392",
   "metadata": {},
   "outputs": [
    {
     "data": {
      "text/html": [
       "<div>\n",
       "<style scoped>\n",
       "    .dataframe tbody tr th:only-of-type {\n",
       "        vertical-align: middle;\n",
       "    }\n",
       "\n",
       "    .dataframe tbody tr th {\n",
       "        vertical-align: top;\n",
       "    }\n",
       "\n",
       "    .dataframe thead th {\n",
       "        text-align: right;\n",
       "    }\n",
       "</style>\n",
       "<table border=\"1\" class=\"dataframe\">\n",
       "  <thead>\n",
       "    <tr style=\"text-align: right;\">\n",
       "      <th></th>\n",
       "      <th>id</th>\n",
       "      <th>client_id</th>\n",
       "      <th>card_brand</th>\n",
       "      <th>card_type</th>\n",
       "      <th>card_number</th>\n",
       "      <th>expires</th>\n",
       "      <th>cvv</th>\n",
       "      <th>has_chip</th>\n",
       "      <th>num_cards_issued</th>\n",
       "      <th>credit_limit</th>\n",
       "      <th>acct_open_date</th>\n",
       "      <th>year_pin_last_changed</th>\n",
       "      <th>card_on_dark_web</th>\n",
       "    </tr>\n",
       "  </thead>\n",
       "  <tbody>\n",
       "    <tr>\n",
       "      <th>0</th>\n",
       "      <td>4524</td>\n",
       "      <td>825</td>\n",
       "      <td>Visa</td>\n",
       "      <td>Debit</td>\n",
       "      <td>4344676511950444</td>\n",
       "      <td>12/2022</td>\n",
       "      <td>623</td>\n",
       "      <td>YES</td>\n",
       "      <td>2</td>\n",
       "      <td>$24295</td>\n",
       "      <td>09/2002</td>\n",
       "      <td>2008</td>\n",
       "      <td>No</td>\n",
       "    </tr>\n",
       "  </tbody>\n",
       "</table>\n",
       "</div>"
      ],
      "text/plain": [
       "     id client_id card_brand card_type       card_number  expires  cvv  \\\n",
       "0  4524       825       Visa     Debit  4344676511950444  12/2022  623   \n",
       "\n",
       "  has_chip num_cards_issued credit_limit acct_open_date year_pin_last_changed  \\\n",
       "0      YES                2       $24295        09/2002                  2008   \n",
       "\n",
       "  card_on_dark_web  \n",
       "0               No  "
      ]
     },
     "execution_count": 29,
     "metadata": {},
     "output_type": "execute_result"
    }
   ],
   "source": [
    "df2=spark.read.csv(\"/home/daman/Downloads/financial_trans/cards_data.csv\",header=True)\n",
    "df2.createOrReplaceTempView('cards_data')\n",
    "\n",
    "#df2.limit(1).show()\n",
    "df2.toPandas().head(1)"
   ]
  },
  {
   "cell_type": "code",
   "execution_count": 30,
   "id": "c45a3769",
   "metadata": {},
   "outputs": [],
   "source": [
    "df2.write.mode(\"overwrite\").parquet(\"./output/raw_cards\")"
   ]
  },
  {
   "cell_type": "code",
   "execution_count": 31,
   "id": "ec5dcc76",
   "metadata": {},
   "outputs": [],
   "source": [
    "with open(\"/home/daman/Downloads/notebooks/financial-task/query/raw_cards.sql\")as f :\n",
    "    cards=f.read()"
   ]
  },
  {
   "cell_type": "code",
   "execution_count": 32,
   "id": "9422c8a8",
   "metadata": {},
   "outputs": [
    {
     "name": "stdout",
     "output_type": "stream",
     "text": [
      "+----+---------+----------+---------------+------------+\n",
      "|  id|client_id|card_brand|      card_type|credit_limit|\n",
      "+----+---------+----------+---------------+------------+\n",
      "|4524|      825|      Visa|          Debit|   24295.000|\n",
      "|2731|      825|      Visa|          Debit|   21968.000|\n",
      "|3701|      825|      Visa|          Debit|   46414.000|\n",
      "|  42|      825|      Visa|         Credit|   12400.000|\n",
      "|4659|      825|Mastercard|Debit (Prepaid)|      28.000|\n",
      "|4537|     1746|      Visa|         Credit|   27500.000|\n",
      "|1278|     1746|      Visa|          Debit|   28508.000|\n",
      "|3687|     1746|Mastercard|          Debit|    9022.000|\n",
      "|3465|     1746|Mastercard|Debit (Prepaid)|      54.000|\n",
      "|3754|     1746|Mastercard|Debit (Prepaid)|      99.000|\n",
      "|5144|     1718|Mastercard|          Debit|   31599.000|\n",
      "|2029|     1718|Mastercard|          Debit|   27480.000|\n",
      "|2379|     1718|Mastercard|          Debit|   26743.000|\n",
      "|2732|     1718|      Visa|          Debit|   31463.000|\n",
      "|4706|     1718|Mastercard|          Debit|   16055.000|\n",
      "| 281|      708|      Visa|         Credit|   98100.000|\n",
      "|1106|      708|Mastercard|Debit (Prepaid)|      62.000|\n",
      "|5621|      708|      Visa|          Debit|  132439.000|\n",
      "|5165|      708|      Visa|          Debit|  125723.000|\n",
      "|5757|     1164|Mastercard|          Debit|   34900.000|\n",
      "+----+---------+----------+---------------+------------+\n",
      "only showing top 20 rows\n",
      "\n"
     ]
    }
   ],
   "source": [
    "spark.sql(cards).show()\n",
    "# spark.sql(\"SELECT * FROM RAW_CARDS\").toPandas().head(2)"
   ]
  },
  {
   "cell_type": "markdown",
   "id": "158b5fe4",
   "metadata": {},
   "source": [
    "## RAW_MERCHANTS"
   ]
  },
  {
   "cell_type": "code",
   "execution_count": 33,
   "id": "df478cc3",
   "metadata": {},
   "outputs": [
    {
     "name": "stdout",
     "output_type": "stream",
     "text": [
      "+--------------------+----+\n",
      "|            category| mcc|\n",
      "+--------------------+----+\n",
      "|Eating Places and...|5812|\n",
      "|    Service Stations|5541|\n",
      "|Amusement Parks, ...|7996|\n",
      "|Grocery Stores, S...|5411|\n",
      "|Tolls and Bridge ...|4784|\n",
      "|Utilities - Elect...|4900|\n",
      "|         Book Stores|5942|\n",
      "|Fast Food Restaur...|5814|\n",
      "|      Money Transfer|4829|\n",
      "|   Department Stores|5311|\n",
      "+--------------------+----+\n",
      "only showing top 10 rows\n",
      "\n"
     ]
    }
   ],
   "source": [
    "import json\n",
    "\n",
    "\n",
    "with open(\"/home/daman/Downloads/financial_trans/mcc_codes.json\", \"r\") as f:\n",
    "    raw_dict = json.load(f)\n",
    "\n",
    "\n",
    "data = [{\"mcc\": k, \"category\": v} for k, v in raw_dict.items()]\n",
    "\n",
    "\n",
    "df_mcc = spark.createDataFrame(data)\n",
    "df_mcc.createOrReplaceTempView('mcc_codes')\n",
    "df_mcc.show(10)\n",
    "\n"
   ]
  },
  {
   "cell_type": "code",
   "execution_count": 34,
   "id": "f0b368f1",
   "metadata": {},
   "outputs": [],
   "source": [
    "df_mcc.write.mode(\"overwrite\").parquet(\"./output/raw_merchants\")"
   ]
  },
  {
   "cell_type": "code",
   "execution_count": 35,
   "id": "c634b781",
   "metadata": {},
   "outputs": [],
   "source": [
    "with open(\"/home/daman/Downloads/notebooks/financial-task/query/raw_merchants.sql\", \"r\") as f:\n",
    "    merchants=f.read()"
   ]
  },
  {
   "cell_type": "code",
   "execution_count": null,
   "id": "afd6847e",
   "metadata": {},
   "outputs": [
    {
     "name": "stderr",
     "output_type": "stream",
     "text": [
      "[Stage 27:===========================================>              (6 + 2) / 8]\r"
     ]
    },
    {
     "name": "stdout",
     "output_type": "stream",
     "text": [
      "+-----------+--------------+--------------+-----+--------------------+\n",
      "|merchant_id| merchant_city|merchant_state|  zip|            category|\n",
      "+-----------+--------------+--------------+-----+--------------------+\n",
      "|      64566|        Mobile|            AL|36693|Accounting, Audit...|\n",
      "|      95620|     Hampstead|            MD|21074|Insurance Sales, ...|\n",
      "|     100331|       De Land|            IL|61839|Insurance Sales, ...|\n",
      "|      78556|  Cochranville|            PA|19330|Insurance Sales, ...|\n",
      "|      76639|    Willoughby|            OH|44094|  Electronics Stores|\n",
      "|      39821|        Bethel|            NC|27812|Computers, Comput...|\n",
      "|      15853|     Thorndale|            PA|19372|Lumber and Buildi...|\n",
      "|      68002|       Oakland|            CA|94612|Lumber and Buildi...|\n",
      "|      26909|    Ravensdale|            WA|98051|Lumber and Buildi...|\n",
      "|      26909|  Indianapolis|            IN|46217|Lumber and Buildi...|\n",
      "|      26909|         Dover|            PA|17315|Lumber and Buildi...|\n",
      "|      28498|     La Marque|            TX|77568|Lumber and Buildi...|\n",
      "|      86410|     Pell City|            AL|35125|Lumber and Buildi...|\n",
      "|      54952|     Caledonia|            OH|43314|Lumber and Buildi...|\n",
      "|      26909|        Athens|            AL|35611|Lumber and Buildi...|\n",
      "|      39114|Mount Pleasant|            NC|28124|Lumber and Buildi...|\n",
      "|       7743|      Danville|            VT| 5828|Lumber and Buildi...|\n",
      "|        410|        Laurel|            MD|20708|Lumber and Buildi...|\n",
      "|      98796|Mount Pleasant|            NC|28124|Florists Supplies...|\n",
      "|      56988|  Walnut Creek|            CA|94596|Florists Supplies...|\n",
      "+-----------+--------------+--------------+-----+--------------------+\n",
      "only showing top 20 rows\n",
      "\n"
     ]
    },
    {
     "name": "stderr",
     "output_type": "stream",
     "text": [
      "                                                                                \r"
     ]
    }
   ],
   "source": [
    "spark.sql(merchants).show()\n",
    "# run below cell for transaction_data and then this.\n",
    "# spark.sql('SELECT * FROM RAW_MERCHANTS').show(10, truncate=False)"
   ]
  },
  {
   "cell_type": "markdown",
   "id": "3e5036b5",
   "metadata": {},
   "source": [
    "## RAW_TRANSACTIONS"
   ]
  },
  {
   "cell_type": "code",
   "execution_count": 38,
   "id": "55dc70a0",
   "metadata": {},
   "outputs": [
    {
     "name": "stdout",
     "output_type": "stream",
     "text": [
      "+-------+-------------------+---------+-------+-------+------------------+-----------+-------------+--------------+-------+----+------+\n",
      "|     id|               date|client_id|card_id| amount|          use_chip|merchant_id|merchant_city|merchant_state|    zip| mcc|errors|\n",
      "+-------+-------------------+---------+-------+-------+------------------+-----------+-------------+--------------+-------+----+------+\n",
      "|7475327|2010-01-01 00:01:00|     1556|   2972|$-77.00| Swipe Transaction|      59935|       Beulah|            ND|58523.0|5499|  NULL|\n",
      "|7475328|2010-01-01 00:02:00|      561|   4575| $14.57| Swipe Transaction|      67570|   Bettendorf|            IA|52722.0|5311|  NULL|\n",
      "|7475329|2010-01-01 00:02:00|     1129|    102| $80.00| Swipe Transaction|      27092|        Vista|            CA|92084.0|4829|  NULL|\n",
      "|7475331|2010-01-01 00:05:00|      430|   2860|$200.00| Swipe Transaction|      27092|  Crown Point|            IN|46307.0|4829|  NULL|\n",
      "|7475332|2010-01-01 00:06:00|      848|   3915| $46.41| Swipe Transaction|      13051|      Harwood|            MD|20776.0|5813|  NULL|\n",
      "|7475333|2010-01-01 00:07:00|     1807|    165|  $4.81| Swipe Transaction|      20519|        Bronx|            NY|10464.0|5942|  NULL|\n",
      "|7475334|2010-01-01 00:09:00|     1556|   2972| $77.00| Swipe Transaction|      59935|       Beulah|            ND|58523.0|5499|  NULL|\n",
      "|7475335|2010-01-01 00:14:00|     1684|   2140| $26.46|Online Transaction|      39021|       ONLINE|          NULL|   NULL|4784|  NULL|\n",
      "|7475336|2010-01-01 00:21:00|      335|   5131|$261.58|Online Transaction|      50292|       ONLINE|          NULL|   NULL|7801|  NULL|\n",
      "|7475337|2010-01-01 00:21:00|      351|   1112| $10.74| Swipe Transaction|       3864|     Flushing|            NY|11355.0|5813|  NULL|\n",
      "+-------+-------------------+---------+-------+-------+------------------+-----------+-------------+--------------+-------+----+------+\n",
      "\n"
     ]
    }
   ],
   "source": [
    "df3=spark.read.csv(\"/home/daman/Downloads/financial_trans/transactions_data.csv\",header=True)\n",
    "df3.createOrReplaceTempView('transactions_data')\n",
    "\n",
    "df3.limit(10).show()\n",
    "# df3.toPandas().head(1)"
   ]
  },
  {
   "cell_type": "code",
   "execution_count": 40,
   "id": "35315b90",
   "metadata": {},
   "outputs": [],
   "source": [
    "with open(\"/home/daman/Downloads/notebooks/financial-task/query/raw_transactions.sql\", \"r\") as f:\n",
    "    querry=f.read()"
   ]
  },
  {
   "cell_type": "code",
   "execution_count": 41,
   "id": "50c4ec16",
   "metadata": {},
   "outputs": [
    {
     "name": "stderr",
     "output_type": "stream",
     "text": [
      "                                                                                \r"
     ]
    }
   ],
   "source": [
    "df3.write.mode(\"overwrite\").parquet(\"./output/raw_transactions\")"
   ]
  },
  {
   "cell_type": "code",
   "execution_count": 42,
   "id": "d11289ee",
   "metadata": {},
   "outputs": [
    {
     "name": "stdout",
     "output_type": "stream",
     "text": [
      "+-------+-------------------+---------+-------+-----------+-------+------------------+\n",
      "|     id|               date|client_id|card_id|merchant_id| amount|          use_chip|\n",
      "+-------+-------------------+---------+-------+-----------+-------+------------------+\n",
      "|7475327|2010-01-01 00:01:00|     1556|   2972|      59935|-77.000| Swipe Transaction|\n",
      "|7475328|2010-01-01 00:02:00|      561|   4575|      67570| 14.570| Swipe Transaction|\n",
      "|7475329|2010-01-01 00:02:00|     1129|    102|      27092| 80.000| Swipe Transaction|\n",
      "|7475331|2010-01-01 00:05:00|      430|   2860|      27092|200.000| Swipe Transaction|\n",
      "|7475332|2010-01-01 00:06:00|      848|   3915|      13051| 46.410| Swipe Transaction|\n",
      "|7475333|2010-01-01 00:07:00|     1807|    165|      20519|  4.810| Swipe Transaction|\n",
      "|7475334|2010-01-01 00:09:00|     1556|   2972|      59935| 77.000| Swipe Transaction|\n",
      "|7475335|2010-01-01 00:14:00|     1684|   2140|      39021| 26.460|Online Transaction|\n",
      "|7475336|2010-01-01 00:21:00|      335|   5131|      50292|261.580|Online Transaction|\n",
      "|7475337|2010-01-01 00:21:00|      351|   1112|       3864| 10.740| Swipe Transaction|\n",
      "|7475338|2010-01-01 00:23:00|      554|   3912|      67570|  3.510| Swipe Transaction|\n",
      "|7475339|2010-01-01 00:23:00|      605|   5061|      75781|  2.580| Swipe Transaction|\n",
      "|7475340|2010-01-01 00:26:00|     1556|   2972|      59935| 39.630| Swipe Transaction|\n",
      "|7475341|2010-01-01 00:27:00|     1797|   1127|      33326| 43.330| Swipe Transaction|\n",
      "|7475342|2010-01-01 00:30:00|      114|   3398|      61195| 49.420| Swipe Transaction|\n",
      "|7475343|2010-01-01 00:31:00|     1634|   2464|      20519|  1.090| Swipe Transaction|\n",
      "|7475344|2010-01-01 00:32:00|      646|   2093|       1636| 73.790| Swipe Transaction|\n",
      "|7475345|2010-01-01 00:32:00|     1129|   5492|      27092|100.000| Swipe Transaction|\n",
      "|7475346|2010-01-01 00:34:00|      394|   4717|      39021| 26.040|Online Transaction|\n",
      "|7475347|2010-01-01 00:36:00|      114|   3398|      61195|-64.000| Swipe Transaction|\n",
      "+-------+-------------------+---------+-------+-----------+-------+------------------+\n",
      "only showing top 20 rows\n",
      "\n"
     ]
    }
   ],
   "source": [
    "spark.sql(querry ).show()\n",
    "# spark.sql(\"SELECT * FROM RAW_TRANSACTIONS\").show(10,truncate=False)"
   ]
  },
  {
   "cell_type": "markdown",
   "id": "77ce77ce",
   "metadata": {},
   "source": [
    "# Test"
   ]
  },
  {
   "cell_type": "code",
   "execution_count": null,
   "id": "9b2c8cf6",
   "metadata": {},
   "outputs": [
    {
     "name": "stderr",
     "output_type": "stream",
     "text": [
      "[Stage 56:===================================================>     (9 + 1) / 10]\r"
     ]
    },
    {
     "name": "stdout",
     "output_type": "stream",
     "text": [
      "+-----------+-------------+--------------+-----+----+----------------------------------------------+\n",
      "|merchant_id|merchant_city|merchant_state|zip  |mcc |category                                      |\n",
      "+-----------+-------------+--------------+-----+----+----------------------------------------------+\n",
      "|73025      |Morrisville  |NC            |27560|8931|Accounting, Auditing, and Bookkeeping Services|\n",
      "+-----------+-------------+--------------+-----+----+----------------------------------------------+\n",
      "\n"
     ]
    },
    {
     "name": "stderr",
     "output_type": "stream",
     "text": [
      "                                                                                \r"
     ]
    }
   ],
   "source": [
    "spark.sql('''\n",
    "select distinct\n",
    "t.merchant_id  ,\n",
    "t.merchant_city,\n",
    "t.merchant_state,\n",
    "cast(cast(t.zip as int) as string) zip,\n",
    "m.mcc,\n",
    "m.category \n",
    "from transactions_data t \n",
    "left join mcc_codes m\n",
    "on t.mcc=m.mcc\n",
    "          where t.merchant_id = 73025\n",
    "                     \n",
    "''').show(10, truncate=False)"
   ]
  },
  {
   "cell_type": "code",
   "execution_count": null,
   "id": "29740443",
   "metadata": {},
   "outputs": [
    {
     "name": "stdout",
     "output_type": "stream",
     "text": [
      "+-----------+-------------+--------------+-----+----------------+\n",
      "|merchant_id|merchant_city|merchant_state|zip  |category        |\n",
      "+-----------+-------------+--------------+-----+----------------+\n",
      "|26810      |Plattekill   |NY            |12568|Service Stations|\n",
      "+-----------+-------------+--------------+-----+----------------+\n",
      "only showing top 1 row\n",
      "\n"
     ]
    }
   ],
   "source": [
    "spark.read.parquet('./spark-warehouse/raw_merchants').show(1, truncate=False)"
   ]
  },
  {
   "cell_type": "code",
   "execution_count": null,
   "id": "54e8b70b",
   "metadata": {},
   "outputs": [
    {
     "data": {
      "text/html": [
       "<div>\n",
       "<style scoped>\n",
       "    .dataframe tbody tr th:only-of-type {\n",
       "        vertical-align: middle;\n",
       "    }\n",
       "\n",
       "    .dataframe tbody tr th {\n",
       "        vertical-align: top;\n",
       "    }\n",
       "\n",
       "    .dataframe thead th {\n",
       "        text-align: right;\n",
       "    }\n",
       "</style>\n",
       "<table border=\"1\" class=\"dataframe\">\n",
       "  <thead>\n",
       "    <tr style=\"text-align: right;\">\n",
       "      <th></th>\n",
       "      <th>id</th>\n",
       "      <th>current_age</th>\n",
       "      <th>retirement_age</th>\n",
       "      <th>birth_year</th>\n",
       "      <th>birth_month</th>\n",
       "      <th>gender</th>\n",
       "      <th>address</th>\n",
       "      <th>latitude</th>\n",
       "      <th>longitude</th>\n",
       "      <th>per_capita_income</th>\n",
       "      <th>yearly_income</th>\n",
       "      <th>total_debt</th>\n",
       "      <th>credit_score</th>\n",
       "      <th>num_credit_cards</th>\n",
       "    </tr>\n",
       "  </thead>\n",
       "  <tbody>\n",
       "    <tr>\n",
       "      <th>0</th>\n",
       "      <td>825</td>\n",
       "      <td>53</td>\n",
       "      <td>66</td>\n",
       "      <td>1966</td>\n",
       "      <td>11</td>\n",
       "      <td>Female</td>\n",
       "      <td>462 Rose Lane</td>\n",
       "      <td>34.15</td>\n",
       "      <td>-117.76</td>\n",
       "      <td>$29278</td>\n",
       "      <td>$59696</td>\n",
       "      <td>$127613</td>\n",
       "      <td>787</td>\n",
       "      <td>5</td>\n",
       "    </tr>\n",
       "    <tr>\n",
       "      <th>1</th>\n",
       "      <td>1746</td>\n",
       "      <td>53</td>\n",
       "      <td>68</td>\n",
       "      <td>1966</td>\n",
       "      <td>12</td>\n",
       "      <td>Female</td>\n",
       "      <td>3606 Federal Boulevard</td>\n",
       "      <td>40.76</td>\n",
       "      <td>-73.74</td>\n",
       "      <td>$37891</td>\n",
       "      <td>$77254</td>\n",
       "      <td>$191349</td>\n",
       "      <td>701</td>\n",
       "      <td>5</td>\n",
       "    </tr>\n",
       "    <tr>\n",
       "      <th>2</th>\n",
       "      <td>1718</td>\n",
       "      <td>81</td>\n",
       "      <td>67</td>\n",
       "      <td>1938</td>\n",
       "      <td>11</td>\n",
       "      <td>Female</td>\n",
       "      <td>766 Third Drive</td>\n",
       "      <td>34.02</td>\n",
       "      <td>-117.89</td>\n",
       "      <td>$22681</td>\n",
       "      <td>$33483</td>\n",
       "      <td>$196</td>\n",
       "      <td>698</td>\n",
       "      <td>5</td>\n",
       "    </tr>\n",
       "    <tr>\n",
       "      <th>3</th>\n",
       "      <td>708</td>\n",
       "      <td>63</td>\n",
       "      <td>63</td>\n",
       "      <td>1957</td>\n",
       "      <td>1</td>\n",
       "      <td>Female</td>\n",
       "      <td>3 Madison Street</td>\n",
       "      <td>40.71</td>\n",
       "      <td>-73.99</td>\n",
       "      <td>$163145</td>\n",
       "      <td>$249925</td>\n",
       "      <td>$202328</td>\n",
       "      <td>722</td>\n",
       "      <td>4</td>\n",
       "    </tr>\n",
       "    <tr>\n",
       "      <th>4</th>\n",
       "      <td>1164</td>\n",
       "      <td>43</td>\n",
       "      <td>70</td>\n",
       "      <td>1976</td>\n",
       "      <td>9</td>\n",
       "      <td>Male</td>\n",
       "      <td>9620 Valley Stream Drive</td>\n",
       "      <td>37.76</td>\n",
       "      <td>-122.44</td>\n",
       "      <td>$53797</td>\n",
       "      <td>$109687</td>\n",
       "      <td>$183855</td>\n",
       "      <td>675</td>\n",
       "      <td>1</td>\n",
       "    </tr>\n",
       "    <tr>\n",
       "      <th>...</th>\n",
       "      <td>...</td>\n",
       "      <td>...</td>\n",
       "      <td>...</td>\n",
       "      <td>...</td>\n",
       "      <td>...</td>\n",
       "      <td>...</td>\n",
       "      <td>...</td>\n",
       "      <td>...</td>\n",
       "      <td>...</td>\n",
       "      <td>...</td>\n",
       "      <td>...</td>\n",
       "      <td>...</td>\n",
       "      <td>...</td>\n",
       "      <td>...</td>\n",
       "    </tr>\n",
       "    <tr>\n",
       "      <th>1995</th>\n",
       "      <td>986</td>\n",
       "      <td>32</td>\n",
       "      <td>70</td>\n",
       "      <td>1987</td>\n",
       "      <td>7</td>\n",
       "      <td>Male</td>\n",
       "      <td>6577 Lexington Lane</td>\n",
       "      <td>40.65</td>\n",
       "      <td>-73.58</td>\n",
       "      <td>$23550</td>\n",
       "      <td>$48010</td>\n",
       "      <td>$87837</td>\n",
       "      <td>703</td>\n",
       "      <td>3</td>\n",
       "    </tr>\n",
       "    <tr>\n",
       "      <th>1996</th>\n",
       "      <td>1944</td>\n",
       "      <td>62</td>\n",
       "      <td>65</td>\n",
       "      <td>1957</td>\n",
       "      <td>11</td>\n",
       "      <td>Female</td>\n",
       "      <td>2 Elm Drive</td>\n",
       "      <td>38.95</td>\n",
       "      <td>-84.54</td>\n",
       "      <td>$24218</td>\n",
       "      <td>$49378</td>\n",
       "      <td>$104480</td>\n",
       "      <td>740</td>\n",
       "      <td>4</td>\n",
       "    </tr>\n",
       "    <tr>\n",
       "      <th>1997</th>\n",
       "      <td>185</td>\n",
       "      <td>47</td>\n",
       "      <td>67</td>\n",
       "      <td>1973</td>\n",
       "      <td>1</td>\n",
       "      <td>Female</td>\n",
       "      <td>276 Fifth Boulevard</td>\n",
       "      <td>40.66</td>\n",
       "      <td>-74.19</td>\n",
       "      <td>$15175</td>\n",
       "      <td>$30942</td>\n",
       "      <td>$71066</td>\n",
       "      <td>779</td>\n",
       "      <td>3</td>\n",
       "    </tr>\n",
       "    <tr>\n",
       "      <th>1998</th>\n",
       "      <td>1007</td>\n",
       "      <td>66</td>\n",
       "      <td>60</td>\n",
       "      <td>1954</td>\n",
       "      <td>2</td>\n",
       "      <td>Male</td>\n",
       "      <td>259 Valley Boulevard</td>\n",
       "      <td>40.24</td>\n",
       "      <td>-76.92</td>\n",
       "      <td>$25336</td>\n",
       "      <td>$54654</td>\n",
       "      <td>$27241</td>\n",
       "      <td>618</td>\n",
       "      <td>1</td>\n",
       "    </tr>\n",
       "    <tr>\n",
       "      <th>1999</th>\n",
       "      <td>1110</td>\n",
       "      <td>21</td>\n",
       "      <td>60</td>\n",
       "      <td>1998</td>\n",
       "      <td>11</td>\n",
       "      <td>Female</td>\n",
       "      <td>472 Ocean View Street</td>\n",
       "      <td>42.86</td>\n",
       "      <td>-71.48</td>\n",
       "      <td>$32325</td>\n",
       "      <td>$65909</td>\n",
       "      <td>$181261</td>\n",
       "      <td>673</td>\n",
       "      <td>2</td>\n",
       "    </tr>\n",
       "  </tbody>\n",
       "</table>\n",
       "<p>2000 rows × 14 columns</p>\n",
       "</div>"
      ],
      "text/plain": [
       "        id current_age retirement_age birth_year birth_month  gender  \\\n",
       "0      825          53             66       1966          11  Female   \n",
       "1     1746          53             68       1966          12  Female   \n",
       "2     1718          81             67       1938          11  Female   \n",
       "3      708          63             63       1957           1  Female   \n",
       "4     1164          43             70       1976           9    Male   \n",
       "...    ...         ...            ...        ...         ...     ...   \n",
       "1995   986          32             70       1987           7    Male   \n",
       "1996  1944          62             65       1957          11  Female   \n",
       "1997   185          47             67       1973           1  Female   \n",
       "1998  1007          66             60       1954           2    Male   \n",
       "1999  1110          21             60       1998          11  Female   \n",
       "\n",
       "                       address latitude longitude per_capita_income  \\\n",
       "0                462 Rose Lane    34.15   -117.76            $29278   \n",
       "1       3606 Federal Boulevard    40.76    -73.74            $37891   \n",
       "2              766 Third Drive    34.02   -117.89            $22681   \n",
       "3             3 Madison Street    40.71    -73.99           $163145   \n",
       "4     9620 Valley Stream Drive    37.76   -122.44            $53797   \n",
       "...                        ...      ...       ...               ...   \n",
       "1995       6577 Lexington Lane    40.65    -73.58            $23550   \n",
       "1996               2 Elm Drive    38.95    -84.54            $24218   \n",
       "1997       276 Fifth Boulevard    40.66    -74.19            $15175   \n",
       "1998      259 Valley Boulevard    40.24    -76.92            $25336   \n",
       "1999     472 Ocean View Street    42.86    -71.48            $32325   \n",
       "\n",
       "     yearly_income total_debt credit_score num_credit_cards  \n",
       "0           $59696    $127613          787                5  \n",
       "1           $77254    $191349          701                5  \n",
       "2           $33483       $196          698                5  \n",
       "3          $249925    $202328          722                4  \n",
       "4          $109687    $183855          675                1  \n",
       "...            ...        ...          ...              ...  \n",
       "1995        $48010     $87837          703                3  \n",
       "1996        $49378    $104480          740                4  \n",
       "1997        $30942     $71066          779                3  \n",
       "1998        $54654     $27241          618                1  \n",
       "1999        $65909    $181261          673                2  \n",
       "\n",
       "[2000 rows x 14 columns]"
      ]
     },
     "execution_count": 48,
     "metadata": {},
     "output_type": "execute_result"
    }
   ],
   "source": [
    "spark.read.parquet('./output/raw_users').toPandas()\n"
   ]
  }
 ],
 "metadata": {
  "kernelspec": {
   "display_name": "venv",
   "language": "python",
   "name": "python3"
  },
  "language_info": {
   "codemirror_mode": {
    "name": "ipython",
    "version": 3
   },
   "file_extension": ".py",
   "mimetype": "text/x-python",
   "name": "python",
   "nbconvert_exporter": "python",
   "pygments_lexer": "ipython3",
   "version": "3.12.3"
  }
 },
 "nbformat": 4,
 "nbformat_minor": 5
}
