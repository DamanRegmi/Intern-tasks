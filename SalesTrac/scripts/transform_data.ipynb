{
 "cells": [
  {
   "cell_type": "markdown",
   "id": "fe4ffffc",
   "metadata": {},
   "source": [
    "# Transforming data"
   ]
  },
  {
   "cell_type": "code",
   "execution_count": 52,
   "id": "60e84268",
   "metadata": {},
   "outputs": [],
   "source": [
    "from pyspark.sql import SparkSession\n",
    "\n",
    "spark=SparkSession.builder \\\n",
    "        .appName(\"Superstore Clean and Transform\") \\\n",
    "        .getOrCreate()\n"
   ]
  },
  {
   "cell_type": "code",
   "execution_count": 53,
   "id": "3f483098",
   "metadata": {},
   "outputs": [
    {
     "name": "stdout",
     "output_type": "stream",
     "text": [
      "+------+--------------+----------+----------+--------------+-----------+---------------+---------+-------------+---------------+----------+-----------+------+---------------+---------------+------------+--------------------+--------+--------+--------+--------+\n",
      "|Row ID|      Order ID|Order Date| Ship Date|     Ship Mode|Customer ID|  Customer Name|  Segment|      Country|           City|     State|Postal Code|Region|     Product ID|       Category|Sub-Category|        Product Name|   Sales|Quantity|Discount|  Profit|\n",
      "+------+--------------+----------+----------+--------------+-----------+---------------+---------+-------------+---------------+----------+-----------+------+---------------+---------------+------------+--------------------+--------+--------+--------+--------+\n",
      "|     1|CA-2016-152156| 11/8/2016|11/11/2016|  Second Class|   CG-12520|    Claire Gute| Consumer|United States|      Henderson|  Kentucky|      42420| South|FUR-BO-10001798|      Furniture|   Bookcases|Bush Somerset Col...|  261.96|       2|       0| 41.9136|\n",
      "|     2|CA-2016-152156| 11/8/2016|11/11/2016|  Second Class|   CG-12520|    Claire Gute| Consumer|United States|      Henderson|  Kentucky|      42420| South|FUR-CH-10000454|      Furniture|      Chairs|Hon Deluxe Fabric...|  731.94|       3|       0| 219.582|\n",
      "|     3|CA-2016-138688| 6/12/2016| 6/16/2016|  Second Class|   DV-13045|Darrin Van Huff|Corporate|United States|    Los Angeles|California|      90036|  West|OFF-LA-10000240|Office Supplies|      Labels|Self-Adhesive Add...|   14.62|       2|       0|  6.8714|\n",
      "|     4|US-2015-108966|10/11/2015|10/18/2015|Standard Class|   SO-20335| Sean O'Donnell| Consumer|United States|Fort Lauderdale|   Florida|      33311| South|FUR-TA-10000577|      Furniture|      Tables|Bretford CR4500 S...|957.5775|       5|    0.45|-383.031|\n",
      "|     5|US-2015-108966|10/11/2015|10/18/2015|Standard Class|   SO-20335| Sean O'Donnell| Consumer|United States|Fort Lauderdale|   Florida|      33311| South|OFF-ST-10000760|Office Supplies|     Storage|Eldon Fold 'N Rol...|  22.368|       2|     0.2|  2.5164|\n",
      "+------+--------------+----------+----------+--------------+-----------+---------------+---------+-------------+---------------+----------+-----------+------+---------------+---------------+------------+--------------------+--------+--------+--------+--------+\n",
      "only showing top 5 rows\n",
      "\n"
     ]
    }
   ],
   "source": [
    "file_path=\"/home/daman/Downloads/notebooks/SalesTrac/data/raw/Superstore.csv\"\n",
    "df=spark.read.csv(file_path,header=True,inferSchema=True)\n",
    "df.show(5)\n"
   ]
  },
  {
   "cell_type": "code",
   "execution_count": 54,
   "id": "1e1ba731",
   "metadata": {},
   "outputs": [
    {
     "name": "stdout",
     "output_type": "stream",
     "text": [
      "root\n",
      " |-- Row ID: integer (nullable = true)\n",
      " |-- Order ID: string (nullable = true)\n",
      " |-- Order Date: string (nullable = true)\n",
      " |-- Ship Date: string (nullable = true)\n",
      " |-- Ship Mode: string (nullable = true)\n",
      " |-- Customer ID: string (nullable = true)\n",
      " |-- Customer Name: string (nullable = true)\n",
      " |-- Segment: string (nullable = true)\n",
      " |-- Country: string (nullable = true)\n",
      " |-- City: string (nullable = true)\n",
      " |-- State: string (nullable = true)\n",
      " |-- Postal Code: integer (nullable = true)\n",
      " |-- Region: string (nullable = true)\n",
      " |-- Product ID: string (nullable = true)\n",
      " |-- Category: string (nullable = true)\n",
      " |-- Sub-Category: string (nullable = true)\n",
      " |-- Product Name: string (nullable = true)\n",
      " |-- Sales: string (nullable = true)\n",
      " |-- Quantity: string (nullable = true)\n",
      " |-- Discount: string (nullable = true)\n",
      " |-- Profit: double (nullable = true)\n",
      "\n"
     ]
    },
    {
     "data": {
      "text/plain": [
       "9994"
      ]
     },
     "execution_count": 54,
     "metadata": {},
     "output_type": "execute_result"
    }
   ],
   "source": [
    "df.printSchema()\n",
    "df.count()"
   ]
  },
  {
   "cell_type": "markdown",
   "id": "1a2f354b",
   "metadata": {},
   "source": [
    "## Clean and Transform"
   ]
  },
  {
   "cell_type": "code",
   "execution_count": 55,
   "id": "31cc2f92",
   "metadata": {},
   "outputs": [
    {
     "name": "stdout",
     "output_type": "stream",
     "text": [
      "root\n",
      " |-- row_id: integer (nullable = true)\n",
      " |-- order_id: string (nullable = true)\n",
      " |-- order_date: string (nullable = true)\n",
      " |-- ship_date: string (nullable = true)\n",
      " |-- ship_mode: string (nullable = true)\n",
      " |-- customer_id: string (nullable = true)\n",
      " |-- customer_name: string (nullable = true)\n",
      " |-- segment: string (nullable = true)\n",
      " |-- country: string (nullable = true)\n",
      " |-- city: string (nullable = true)\n",
      " |-- state: string (nullable = true)\n",
      " |-- postal_code: integer (nullable = true)\n",
      " |-- region: string (nullable = true)\n",
      " |-- product_id: string (nullable = true)\n",
      " |-- category: string (nullable = true)\n",
      " |-- sub-category: string (nullable = true)\n",
      " |-- product_name: string (nullable = true)\n",
      " |-- sales: double (nullable = true)\n",
      " |-- quantity: integer (nullable = true)\n",
      " |-- discount: double (nullable = true)\n",
      " |-- profit: double (nullable = true)\n",
      "\n"
     ]
    }
   ],
   "source": [
    "from pyspark.sql.functions import col\n",
    "\n",
    "for col_name in df.columns:\n",
    "    new_col=col_name.strip().lower().replace(\" \",\"_\")\n",
    "    df=df.withColumnRenamed(col_name,new_col)\n",
    "\n",
    "\n",
    "df = df.withColumn(\"sales\", col(\"sales\").cast(\"double\")) \\\n",
    "       .withColumn(\"quantity\", col(\"quantity\").cast(\"int\")) \\\n",
    "       .withColumn(\"discount\", col(\"discount\").cast(\"double\"))    \n",
    "\n",
    "df.printSchema()  "
   ]
  },
  {
   "cell_type": "code",
   "execution_count": 56,
   "id": "e9d4633b",
   "metadata": {},
   "outputs": [
    {
     "name": "stdout",
     "output_type": "stream",
     "text": [
      "+----------+----------+\n",
      "|order_date| ship_date|\n",
      "+----------+----------+\n",
      "|2016-11-08|2016-11-11|\n",
      "|2016-11-08|2016-11-11|\n",
      "|2016-06-12|2016-06-16|\n",
      "|2015-10-11|2015-10-18|\n",
      "|2015-10-11|2015-10-18|\n",
      "+----------+----------+\n",
      "only showing top 5 rows\n",
      "\n"
     ]
    }
   ],
   "source": [
    "from pyspark.sql.functions import to_date\n",
    "spark.conf.set(\"spark.sql.legacy.timeParserPolicy\", \"LEGACY\")\n",
    "\n",
    "df=df.withColumn(\"order_date\",to_date(\"order_date\",\"MM/dd/yyyy\"))\n",
    "df=df.withColumn(\"ship_date\",to_date(\"ship_date\",\"MM/dd/yyyy\"))\n",
    "\n",
    "df.select(\"order_date\",\"ship_date\").show(5)"
   ]
  },
  {
   "cell_type": "code",
   "execution_count": 57,
   "id": "dfe8bf97",
   "metadata": {},
   "outputs": [
    {
     "name": "stdout",
     "output_type": "stream",
     "text": [
      "+----------+-----------+\n",
      "|order_year|order_month|\n",
      "+----------+-----------+\n",
      "|      2016|         11|\n",
      "|      2016|         11|\n",
      "|      2016|          6|\n",
      "|      2015|         10|\n",
      "|      2015|         10|\n",
      "+----------+-----------+\n",
      "only showing top 5 rows\n",
      "\n"
     ]
    }
   ],
   "source": [
    "from pyspark.sql.functions import year,month\n",
    "\n",
    "df=df.withColumn(\"order_year\",year(\"order_date\"))\n",
    "df=df.withColumn(\"order_month\",month(\"order_date\"))\n",
    "df.select(\"order_year\",\"order_month\").show(5)"
   ]
  },
  {
   "cell_type": "code",
   "execution_count": 58,
   "id": "bdb5f816",
   "metadata": {},
   "outputs": [
    {
     "name": "stdout",
     "output_type": "stream",
     "text": [
      "+------+--------------+----------+----------+--------------+-----------+---------------+---------+-------------+---------------+----------+-----------+------+---------------+---------------+------------+--------------------+--------+--------+--------+--------+----------+-----------+\n",
      "|row_id|      order_id|order_date| ship_date|     ship_mode|customer_id|  customer_name|  segment|      country|           city|     state|postal_code|region|     product_id|       category|sub-category|        product_name|   sales|quantity|discount|  profit|order_year|order_month|\n",
      "+------+--------------+----------+----------+--------------+-----------+---------------+---------+-------------+---------------+----------+-----------+------+---------------+---------------+------------+--------------------+--------+--------+--------+--------+----------+-----------+\n",
      "|     1|CA-2016-152156|2016-11-08|2016-11-11|  Second Class|   CG-12520|    Claire Gute| Consumer|United States|      Henderson|  Kentucky|      42420| South|FUR-BO-10001798|      Furniture|   Bookcases|Bush Somerset Col...|  261.96|       2|     0.0| 41.9136|      2016|         11|\n",
      "|     2|CA-2016-152156|2016-11-08|2016-11-11|  Second Class|   CG-12520|    Claire Gute| Consumer|United States|      Henderson|  Kentucky|      42420| South|FUR-CH-10000454|      Furniture|      Chairs|Hon Deluxe Fabric...|  731.94|       3|     0.0| 219.582|      2016|         11|\n",
      "|     3|CA-2016-138688|2016-06-12|2016-06-16|  Second Class|   DV-13045|Darrin Van Huff|Corporate|United States|    Los Angeles|California|      90036|  West|OFF-LA-10000240|Office Supplies|      Labels|Self-Adhesive Add...|   14.62|       2|     0.0|  6.8714|      2016|          6|\n",
      "|     4|US-2015-108966|2015-10-11|2015-10-18|Standard Class|   SO-20335| Sean O'Donnell| Consumer|United States|Fort Lauderdale|   Florida|      33311| South|FUR-TA-10000577|      Furniture|      Tables|Bretford CR4500 S...|957.5775|       5|    0.45|-383.031|      2015|         10|\n",
      "|     5|US-2015-108966|2015-10-11|2015-10-18|Standard Class|   SO-20335| Sean O'Donnell| Consumer|United States|Fort Lauderdale|   Florida|      33311| South|OFF-ST-10000760|Office Supplies|     Storage|Eldon Fold 'N Rol...|  22.368|       2|     0.2|  2.5164|      2015|         10|\n",
      "+------+--------------+----------+----------+--------------+-----------+---------------+---------+-------------+---------------+----------+-----------+------+---------------+---------------+------------+--------------------+--------+--------+--------+--------+----------+-----------+\n",
      "only showing top 5 rows\n",
      "\n"
     ]
    },
    {
     "data": {
      "text/plain": [
       "9994"
      ]
     },
     "execution_count": 58,
     "metadata": {},
     "output_type": "execute_result"
    }
   ],
   "source": [
    "df.show(5)\n",
    "df.count()"
   ]
  },
  {
   "cell_type": "code",
   "execution_count": 59,
   "id": "5b006e7c",
   "metadata": {},
   "outputs": [
    {
     "data": {
      "text/plain": [
       "9986"
      ]
     },
     "execution_count": 59,
     "metadata": {},
     "output_type": "execute_result"
    }
   ],
   "source": [
    "df=df.dropna(subset=[\"order_id\",\"product_id\"])\n",
    "df=df.dropDuplicates([\"order_id\",\"product_id\"])\n",
    "df.count()"
   ]
  },
  {
   "cell_type": "markdown",
   "id": "9e1ffa75",
   "metadata": {},
   "source": [
    "## Cleaned Parquet File"
   ]
  },
  {
   "cell_type": "code",
   "execution_count": 60,
   "id": "a0f9bb40",
   "metadata": {},
   "outputs": [
    {
     "name": "stdout",
     "output_type": "stream",
     "text": [
      "Stored\n"
     ]
    }
   ],
   "source": [
    "df.write.partitionBy(\"order_year\").mode(\"overwrite\")\\\n",
    "    .parquet(\"/home/daman/Downloads/notebooks/SalesTrac/data/processed\")\n",
    "print(\"Stored\")\n"
   ]
  },
  {
   "cell_type": "markdown",
   "id": "4c784920",
   "metadata": {},
   "source": [
    "# Incremental Load"
   ]
  },
  {
   "cell_type": "code",
   "execution_count": 61,
   "id": "c2aa04ae",
   "metadata": {},
   "outputs": [
    {
     "name": "stdout",
     "output_type": "stream",
     "text": [
      "root\n",
      " |-- row_id: integer (nullable = true)\n",
      " |-- order_id: string (nullable = true)\n",
      " |-- order_date: date (nullable = true)\n",
      " |-- ship_date: date (nullable = true)\n",
      " |-- ship_mode: string (nullable = true)\n",
      " |-- customer_id: string (nullable = true)\n",
      " |-- customer_name: string (nullable = true)\n",
      " |-- segment: string (nullable = true)\n",
      " |-- country: string (nullable = true)\n",
      " |-- city: string (nullable = true)\n",
      " |-- state: string (nullable = true)\n",
      " |-- postal_code: integer (nullable = true)\n",
      " |-- region: string (nullable = true)\n",
      " |-- product_id: string (nullable = true)\n",
      " |-- category: string (nullable = true)\n",
      " |-- sub-category: string (nullable = true)\n",
      " |-- product_name: string (nullable = true)\n",
      " |-- sales: double (nullable = true)\n",
      " |-- quantity: integer (nullable = true)\n",
      " |-- discount: double (nullable = true)\n",
      " |-- profit: double (nullable = true)\n",
      " |-- order_month: integer (nullable = true)\n",
      " |-- order_year: integer (nullable = true)\n",
      "\n"
     ]
    }
   ],
   "source": [
    "existing_df = spark.read.parquet(\"/home/daman/Downloads/notebooks/SalesTrac/data/processed\",header=True, inferSchema=True)\n",
    "existing_df.count()\n",
    "existing_df.printSchema()"
   ]
  },
  {
   "cell_type": "markdown",
   "id": "664f74d9",
   "metadata": {},
   "source": [
    "## New data"
   ]
  },
  {
   "cell_type": "code",
   "execution_count": 62,
   "id": "aba7b5f4",
   "metadata": {},
   "outputs": [
    {
     "name": "stdout",
     "output_type": "stream",
     "text": [
      "+------+--------------+----------+----------+------------+-----------+-------------+-----------+-------------+---------+----------+-----------+------+-------------+---------------+------------+--------------+-------+--------+--------+-------+\n",
      "|Row ID|      Order ID|Order Date| Ship Date|   Ship Mode|Customer ID|Customer Name|    Segment|      Country|     City|     State|Postal Code|Region|   Product ID|       Category|Sub-Category|  Product Name|  Sales|Quantity|Discount| Profit|\n",
      "+------+--------------+----------+----------+------------+-----------+-------------+-----------+-------------+---------+----------+-----------+------+-------------+---------------+------------+--------------+-------+--------+--------+-------+\n",
      "|  9995|CA-2025-779294|05/14/2025|05/17/2025| First Class|   MB-23440| Steve Turner|  Corporate|United States|  Houston|     Texas|      77001|  East|OFF-BI-797773|Office Supplies|     Binders| 3-Ring Binder|1956.56|       3|    0.05|1173.94|\n",
      "|  9996|CA-2025-975558|11/28/2025|11/30/2025|    Same Day|   CG-40644|   Brian Ross|Home Office|United States|  Seattle|Washington|      98101|  West|FUR-TA-700975|      Furniture|      Tables|  Coffee Table| 1465.5|       5|     0.2| 366.38|\n",
      "|  9997|CA-2023-322765|09/01/2023|09/03/2023| First Class|   ML-34851| Steve Turner|   Consumer|United States|  Seattle|Washington|      98101|  East|TEC-AC-536540|     Technology| Accessories|Wireless Mouse| 275.18|       2|    0.15|  55.04|\n",
      "|  9998|CA-2025-400102|09/26/2025|10/01/2025|Second Class|   JL-24279|  Chris Green|   Consumer|United States|  Atlanta|   Georgia|      30301| South|TEC-PH-385668|     Technology|      Phones|  Google Pixel|1284.25|       3|     0.0| 963.19|\n",
      "|  9999|CA-2024-828295|09/10/2024|09/15/2024|    Same Day|   JL-32976|  Jack Howard|  Corporate|United States|San Diego|California|      92121| South|OFF-ST-324010|Office Supplies|     Storage|       1TB SSD| 878.37|       5|    0.05| 878.37|\n",
      "+------+--------------+----------+----------+------------+-----------+-------------+-----------+-------------+---------+----------+-----------+------+-------------+---------------+------------+--------------+-------+--------+--------+-------+\n",
      "only showing top 5 rows\n",
      "\n"
     ]
    },
    {
     "data": {
      "text/plain": [
       "1000"
      ]
     },
     "execution_count": 62,
     "metadata": {},
     "output_type": "execute_result"
    }
   ],
   "source": [
    "new_df = spark.read.csv(\"/home/daman/Downloads/notebooks/SalesTrac/data/raw/superstore_2023_2025_1000.csv\", header=True, inferSchema=True)\n",
    "new_df.show(5)\n",
    "new_df.count()"
   ]
  },
  {
   "cell_type": "markdown",
   "id": "7533a292",
   "metadata": {},
   "source": [
    "## Clean and Transform New data"
   ]
  },
  {
   "cell_type": "code",
   "execution_count": 63,
   "id": "c18108b7",
   "metadata": {},
   "outputs": [
    {
     "name": "stdout",
     "output_type": "stream",
     "text": [
      "+------+--------------+----------+----------+------------+-----------+-------------+-----------+-------------+---------+----------+-----------+------+-------------+---------------+------------+--------------+-------+--------+--------+-------+----------+-----------+\n",
      "|row_id|      order_id|order_date| ship_date|   ship_mode|customer_id|customer_name|    segment|      country|     city|     state|postal_code|region|   product_id|       category|sub-category|  product_name|  sales|quantity|discount| profit|order_year|order_month|\n",
      "+------+--------------+----------+----------+------------+-----------+-------------+-----------+-------------+---------+----------+-----------+------+-------------+---------------+------------+--------------+-------+--------+--------+-------+----------+-----------+\n",
      "|  9995|CA-2025-779294|2025-05-14|2025-05-17| First Class|   MB-23440| Steve Turner|  Corporate|United States|  Houston|     Texas|      77001|  East|OFF-BI-797773|Office Supplies|     Binders| 3-Ring Binder|1956.56|       3|    0.05|1173.94|      2025|          5|\n",
      "|  9996|CA-2025-975558|2025-11-28|2025-11-30|    Same Day|   CG-40644|   Brian Ross|Home Office|United States|  Seattle|Washington|      98101|  West|FUR-TA-700975|      Furniture|      Tables|  Coffee Table| 1465.5|       5|     0.2| 366.38|      2025|         11|\n",
      "|  9997|CA-2023-322765|2023-09-01|2023-09-03| First Class|   ML-34851| Steve Turner|   Consumer|United States|  Seattle|Washington|      98101|  East|TEC-AC-536540|     Technology| Accessories|Wireless Mouse| 275.18|       2|    0.15|  55.04|      2023|          9|\n",
      "|  9998|CA-2025-400102|2025-09-26|2025-10-01|Second Class|   JL-24279|  Chris Green|   Consumer|United States|  Atlanta|   Georgia|      30301| South|TEC-PH-385668|     Technology|      Phones|  Google Pixel|1284.25|       3|     0.0| 963.19|      2025|          9|\n",
      "|  9999|CA-2024-828295|2024-09-10|2024-09-15|    Same Day|   JL-32976|  Jack Howard|  Corporate|United States|San Diego|California|      92121| South|OFF-ST-324010|Office Supplies|     Storage|       1TB SSD| 878.37|       5|    0.05| 878.37|      2024|          9|\n",
      "+------+--------------+----------+----------+------------+-----------+-------------+-----------+-------------+---------+----------+-----------+------+-------------+---------------+------------+--------------+-------+--------+--------+-------+----------+-----------+\n",
      "only showing top 5 rows\n",
      "\n"
     ]
    }
   ],
   "source": [
    "from pyspark.sql.functions import to_date, year, month\n",
    "\n",
    "# Rename columns\n",
    "for col_name in new_df.columns:\n",
    "    new_df = new_df.withColumnRenamed(col_name, col_name.strip().lower().replace(\" \", \"_\"))\n",
    "\n",
    "# Fix date format\n",
    "new_df = new_df.withColumn(\"order_date\", to_date(\"order_date\", \"MM/dd/yyyy\"))\n",
    "new_df = new_df.withColumn(\"ship_date\", to_date(\"ship_date\", \"MM/dd/yyyy\"))\n",
    "\n",
    "# Add year/month for partitioning\n",
    "new_df = new_df.withColumn(\"order_year\", year(\"order_date\"))\n",
    "new_df = new_df.withColumn(\"order_month\", month(\"order_date\"))\n",
    "\n",
    "new_df.show(5)\n"
   ]
  },
  {
   "cell_type": "markdown",
   "id": "a71a0172",
   "metadata": {},
   "source": [
    "## Compare and filter new records"
   ]
  },
  {
   "cell_type": "code",
   "execution_count": 64,
   "id": "ee29ff64",
   "metadata": {},
   "outputs": [
    {
     "name": "stdout",
     "output_type": "stream",
     "text": [
      "New records found: 1000\n",
      "+--------------+-------------+----------+\n",
      "|      order_id|   product_id|order_date|\n",
      "+--------------+-------------+----------+\n",
      "|CA-2025-779294|OFF-BI-797773|2025-05-14|\n",
      "|CA-2025-975558|FUR-TA-700975|2025-11-28|\n",
      "|CA-2023-322765|TEC-AC-536540|2023-09-01|\n",
      "|CA-2025-400102|TEC-PH-385668|2025-09-26|\n",
      "|CA-2024-828295|OFF-ST-324010|2024-09-10|\n",
      "+--------------+-------------+----------+\n",
      "only showing top 5 rows\n",
      "\n"
     ]
    }
   ],
   "source": [
    "join_cond = [\n",
    "    new_df[\"order_id\"] == existing_df[\"order_id\"],\n",
    "    new_df[\"product_id\"] == existing_df[\"product_id\"]\n",
    "]\n",
    "\n",
    "# Anti join to get only truly new rows\n",
    "incremental_df = new_df.join(existing_df, join_cond, \"left_anti\")\n",
    "\n",
    "print(\"New records found:\", incremental_df.count())\n",
    "incremental_df.select(\"order_id\", \"product_id\", \"order_date\").show(5)\n"
   ]
  },
  {
   "cell_type": "markdown",
   "id": "bae28f32",
   "metadata": {},
   "source": [
    "## Append new data to cleaned parquet"
   ]
  },
  {
   "cell_type": "code",
   "execution_count": 65,
   "id": "92f7e99b",
   "metadata": {},
   "outputs": [
    {
     "name": "stdout",
     "output_type": "stream",
     "text": [
      "Incremental records appended.\n"
     ]
    }
   ],
   "source": [
    "incremental_df.write.partitionBy(\"order_year\").mode(\"append\") \\\n",
    "    .parquet(\"/home/daman/Downloads/notebooks/SalesTrac/data/processed\")\n",
    "\n",
    "print(\"Incremental records appended.\")\n"
   ]
  }
 ],
 "metadata": {
  "kernelspec": {
   "display_name": "venv",
   "language": "python",
   "name": "python3"
  },
  "language_info": {
   "codemirror_mode": {
    "name": "ipython",
    "version": 3
   },
   "file_extension": ".py",
   "mimetype": "text/x-python",
   "name": "python",
   "nbconvert_exporter": "python",
   "pygments_lexer": "ipython3",
   "version": "3.12.3"
  }
 },
 "nbformat": 4,
 "nbformat_minor": 5
}
