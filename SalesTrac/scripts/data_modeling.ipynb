{
 "cells": [
  {
   "cell_type": "code",
   "execution_count": 77,
   "id": "10839d0a",
   "metadata": {},
   "outputs": [],
   "source": [
    "from pyspark.sql import SparkSession\n",
    "\n",
    "spark = SparkSession.builder \\\n",
    "    .appName(\"Data Modeling - Star Schema\") \\\n",
    "    .getOrCreate()\n"
   ]
  },
  {
   "cell_type": "code",
   "execution_count": 78,
   "id": "a5818a61",
   "metadata": {},
   "outputs": [
    {
     "name": "stdout",
     "output_type": "stream",
     "text": [
      "root\n",
      " |-- row_id: integer (nullable = true)\n",
      " |-- order_id: string (nullable = true)\n",
      " |-- order_date: date (nullable = true)\n",
      " |-- ship_date: date (nullable = true)\n",
      " |-- ship_mode: string (nullable = true)\n",
      " |-- customer_id: string (nullable = true)\n",
      " |-- customer_name: string (nullable = true)\n",
      " |-- segment: string (nullable = true)\n",
      " |-- country: string (nullable = true)\n",
      " |-- city: string (nullable = true)\n",
      " |-- state: string (nullable = true)\n",
      " |-- postal_code: integer (nullable = true)\n",
      " |-- region: string (nullable = true)\n",
      " |-- product_id: string (nullable = true)\n",
      " |-- category: string (nullable = true)\n",
      " |-- sub-category: string (nullable = true)\n",
      " |-- product_name: string (nullable = true)\n",
      " |-- sales: double (nullable = true)\n",
      " |-- quantity: integer (nullable = true)\n",
      " |-- discount: double (nullable = true)\n",
      " |-- profit: double (nullable = true)\n",
      " |-- order_month: integer (nullable = true)\n",
      " |-- order_year: integer (nullable = true)\n",
      "\n"
     ]
    }
   ],
   "source": [
    "df = spark.read.parquet(\"/home/daman/Downloads/notebooks/SalesTrac/data/processed\",header=True, inferSchema=True)\n",
    "df.printSchema()"
   ]
  },
  {
   "cell_type": "code",
   "execution_count": 79,
   "id": "94a31739",
   "metadata": {},
   "outputs": [],
   "source": [
    "dim_customer = df.select(\"customer_id\", \"customer_name\", \"segment\").dropDuplicates()\n",
    "dim_customer.write.mode(\"overwrite\").parquet(\"/home/daman/Downloads/notebooks/SalesTrac/data/warehouse/dim_customer\")\n",
    "\n",
    "dim_product = df.select(\"product_id\", \"product_name\", \"category\", \"sub-category\").dropDuplicates()\n",
    "dim_product.write.mode(\"overwrite\").parquet(\"/home/daman/Downloads/notebooks/SalesTrac/data/warehouse/dim_product\")\n",
    "\n"
   ]
  },
  {
   "cell_type": "code",
   "execution_count": 80,
   "id": "297244fa",
   "metadata": {},
   "outputs": [
    {
     "name": "stderr",
     "output_type": "stream",
     "text": [
      "25/06/09 20:54:02 WARN WindowExec: No Partition Defined for Window operation! Moving all data to a single partition, this can cause serious performance degradation.\n",
      "25/06/09 20:54:02 WARN WindowExec: No Partition Defined for Window operation! Moving all data to a single partition, this can cause serious performance degradation.\n",
      "25/06/09 20:54:02 WARN WindowExec: No Partition Defined for Window operation! Moving all data to a single partition, this can cause serious performance degradation.\n",
      "25/06/09 20:54:02 WARN WindowExec: No Partition Defined for Window operation! Moving all data to a single partition, this can cause serious performance degradation.\n",
      "25/06/09 20:54:02 WARN WindowExec: No Partition Defined for Window operation! Moving all data to a single partition, this can cause serious performance degradation.\n",
      "25/06/09 20:54:02 WARN WindowExec: No Partition Defined for Window operation! Moving all data to a single partition, this can cause serious performance degradation.\n",
      "25/06/09 20:54:02 WARN WindowExec: No Partition Defined for Window operation! Moving all data to a single partition, this can cause serious performance degradation.\n",
      "25/06/09 20:54:02 WARN WindowExec: No Partition Defined for Window operation! Moving all data to a single partition, this can cause serious performance degradation.\n",
      "25/06/09 20:54:02 WARN WindowExec: No Partition Defined for Window operation! Moving all data to a single partition, this can cause serious performance degradation.\n",
      "25/06/09 20:54:02 WARN WindowExec: No Partition Defined for Window operation! Moving all data to a single partition, this can cause serious performance degradation.\n",
      "25/06/09 20:54:03 WARN WindowExec: No Partition Defined for Window operation! Moving all data to a single partition, this can cause serious performance degradation.\n",
      "25/06/09 20:54:03 WARN WindowExec: No Partition Defined for Window operation! Moving all data to a single partition, this can cause serious performance degradation.\n",
      "25/06/09 20:54:03 WARN WindowExec: No Partition Defined for Window operation! Moving all data to a single partition, this can cause serious performance degradation.\n"
     ]
    },
    {
     "name": "stdout",
     "output_type": "stream",
     "text": [
      "+-----------+-----------+------------+-----------+-------------+-------+\n",
      "|location_id|       city|       state|postal_code|      country| region|\n",
      "+-----------+-----------+------------+-----------+-------------+-------+\n",
      "|          1|   Aberdeen|South Dakota|      57401|United States|Central|\n",
      "|          2|    Abilene|       Texas|      79605|United States|Central|\n",
      "|          3|      Akron|        Ohio|      44312|United States|   East|\n",
      "|          4|Albuquerque|  New Mexico|      87105|United States|   West|\n",
      "|          5| Alexandria|    Virginia|      22304|United States|  South|\n",
      "+-----------+-----------+------------+-----------+-------------+-------+\n",
      "only showing top 5 rows\n",
      "\n"
     ]
    }
   ],
   "source": [
    "from pyspark.sql.functions import col, monotonically_increasing_id, row_number\n",
    "from pyspark.sql.window import Window\n",
    "location_df = df.select(\"city\", \"state\", \"postal_code\", \"country\", \"region\").dropDuplicates()\n",
    "windowSpec = Window.orderBy(\"city\", \"state\", \"postal_code\", \"country\", \"region\")\n",
    "dim_location = location_df.withColumn(\n",
    "    \"location_id\", row_number().over(windowSpec)\n",
    ")\n",
    "# Reordering\n",
    "dim_location = dim_location.select(\n",
    "    \"location_id\", \"city\", \"state\", \"postal_code\", \"country\", \"region\"\n",
    ")\n",
    "dim_location.write.mode(\"overwrite\").parquet(\"/home/daman/Downloads/notebooks/SalesTrac/data/warehouse/dim_location\")\n",
    "dim_location.show(5)"
   ]
  },
  {
   "cell_type": "code",
   "execution_count": 81,
   "id": "ab05642b",
   "metadata": {},
   "outputs": [],
   "source": [
    "from pyspark.sql.functions import year, month\n",
    "\n",
    "dim_order = df.select(\"order_id\", \"order_date\", \"ship_date\", \"ship_mode\") \\\n",
    "              .dropDuplicates() \\\n",
    "              .withColumn(\"order_year\", year(\"order_date\")) \\\n",
    "              .withColumn(\"order_month\", month(\"order_date\"))\n",
    "\n",
    "dim_order.write.mode(\"overwrite\").parquet(\"/home/daman/Downloads/notebooks/SalesTrac/data/warehouse/dim_order\")\n"
   ]
  },
  {
   "cell_type": "code",
   "execution_count": 82,
   "id": "7fe4e9ad",
   "metadata": {},
   "outputs": [
    {
     "name": "stderr",
     "output_type": "stream",
     "text": [
      "25/06/09 20:54:10 WARN WindowExec: No Partition Defined for Window operation! Moving all data to a single partition, this can cause serious performance degradation.\n",
      "25/06/09 20:54:10 WARN WindowExec: No Partition Defined for Window operation! Moving all data to a single partition, this can cause serious performance degradation.\n",
      "25/06/09 20:54:10 WARN WindowExec: No Partition Defined for Window operation! Moving all data to a single partition, this can cause serious performance degradation.\n",
      "25/06/09 20:54:10 WARN WindowExec: No Partition Defined for Window operation! Moving all data to a single partition, this can cause serious performance degradation.\n",
      "25/06/09 20:54:10 WARN WindowExec: No Partition Defined for Window operation! Moving all data to a single partition, this can cause serious performance degradation.\n",
      "25/06/09 20:54:10 WARN WindowExec: No Partition Defined for Window operation! Moving all data to a single partition, this can cause serious performance degradation.\n",
      "25/06/09 20:54:11 WARN WindowExec: No Partition Defined for Window operation! Moving all data to a single partition, this can cause serious performance degradation.\n",
      "25/06/09 20:54:11 WARN WindowExec: No Partition Defined for Window operation! Moving all data to a single partition, this can cause serious performance degradation.\n",
      "25/06/09 20:54:11 WARN WindowExec: No Partition Defined for Window operation! Moving all data to a single partition, this can cause serious performance degradation.\n",
      "25/06/09 20:54:11 WARN WindowExec: No Partition Defined for Window operation! Moving all data to a single partition, this can cause serious performance degradation.\n",
      "25/06/09 20:54:11 WARN WindowExec: No Partition Defined for Window operation! Moving all data to a single partition, this can cause serious performance degradation.\n",
      "25/06/09 20:54:11 WARN WindowExec: No Partition Defined for Window operation! Moving all data to a single partition, this can cause serious performance degradation.\n"
     ]
    },
    {
     "name": "stdout",
     "output_type": "stream",
     "text": [
      "+--------------+---------------+-----------+-----------+-------+--------+--------+--------+\n",
      "|      order_id|     product_id|customer_id|location_id|  sales|quantity|discount|  profit|\n",
      "+--------------+---------------+-----------+-----------+-------+--------+--------+--------+\n",
      "|CA-2017-100013|OFF-AR-10001022|   ZC-21910|        374|   5.68|       2|     0.0|  1.7608|\n",
      "|CA-2017-100055|OFF-AP-10001469|   MD-17860|        343| 125.13|       3|     0.0| 36.2877|\n",
      "|CA-2017-100097|TEC-PH-10002310|   MN-17935|        453| 979.95|       5|     0.0|264.5865|\n",
      "|CA-2017-100111|FUR-CH-10003061|   SV-20365|        456| 80.991|       1|     0.1|  8.0991|\n",
      "|CA-2017-100111|FUR-CH-10003846|   SV-20365|        456|272.646|       3|     0.1| 18.1764|\n",
      "+--------------+---------------+-----------+-----------+-------+--------+--------+--------+\n",
      "only showing top 5 rows\n",
      "\n"
     ]
    }
   ],
   "source": [
    "df_with_location = df.join(\n",
    "    dim_location,\n",
    "    on=[\"city\", \"state\", \"postal_code\", \"country\", \"region\"],\n",
    "    how=\"left\"\n",
    ")\n",
    "fact_sales = df_with_location.select(\n",
    "    \"order_id\", \"product_id\", \"customer_id\",\"location_id\",\n",
    "    \"sales\", \"quantity\", \"discount\", \"profit\"\n",
    ")\n",
    "\n",
    "fact_sales.write.mode(\"overwrite\").parquet(\"/home/daman/Downloads/notebooks/SalesTrac/data/warehouse/fact_sales\")\n",
    "fact_sales.show(5)"
   ]
  },
  {
   "cell_type": "code",
   "execution_count": 83,
   "id": "b521cd1b",
   "metadata": {},
   "outputs": [
    {
     "name": "stdout",
     "output_type": "stream",
     "text": [
      "Fact Sales: 10986\n",
      "dim_customer: 1793\n",
      "dim_product: 2894\n",
      "dim_order: 6009\n",
      "dim_location: 712\n"
     ]
    }
   ],
   "source": [
    "print(\"Fact Sales:\", fact_sales.count())\n",
    "print(\"dim_customer:\", dim_customer.count())\n",
    "print(\"dim_product:\", dim_product.count())\n",
    "print(\"dim_order:\", dim_order.count())\n",
    "print(\"dim_location:\", dim_location.count())\n"
   ]
  },
  {
   "cell_type": "code",
   "execution_count": 84,
   "id": "1e8af300",
   "metadata": {},
   "outputs": [
    {
     "name": "stdout",
     "output_type": "stream",
     "text": [
      "+-----------+-------------+---------+\n",
      "|customer_id|customer_name|segment  |\n",
      "+-----------+-------------+---------+\n",
      "|DP-13105   |Dave Poirier |Corporate|\n",
      "+-----------+-------------+---------+\n",
      "only showing top 1 row\n",
      "\n"
     ]
    }
   ],
   "source": [
    "spark.read.parquet('/home/daman/Downloads/notebooks/SalesTrac/data/warehouse/dim_customer').show(1, truncate=False)"
   ]
  },
  {
   "cell_type": "markdown",
   "id": "6a3303d9",
   "metadata": {},
   "source": [
    "## Load to postgresql"
   ]
  },
  {
   "cell_type": "code",
   "execution_count": 45,
   "id": "8a2543d2",
   "metadata": {},
   "outputs": [
    {
     "name": "stderr",
     "output_type": "stream",
     "text": [
      "25/06/09 18:55:56 WARN SparkSession: Using an existing Spark session; only runtime SQL configurations will take effect.\n"
     ]
    }
   ],
   "source": [
    "from pyspark.sql import SparkSession\n",
    "\n",
    "spark = SparkSession.builder \\\n",
    "    .config(\"spark.jars\", \"/home/daman/Downloads/postgresql-42.6.0.jar\") \\\n",
    "    .getOrCreate()\n"
   ]
  },
  {
   "cell_type": "code",
   "execution_count": 50,
   "id": "cbb22a04",
   "metadata": {},
   "outputs": [],
   "source": [
    "jdbc_url = \"jdbc:postgresql://localhost:5432/salestrac_db\"\n",
    "connection_properties = {\n",
    "    \"user\": \"admin\",\n",
    "    \"password\": \"admin\",\n",
    "    \"driver\": \"org.postgresql.Driver\"\n",
    "}"
   ]
  },
  {
   "cell_type": "code",
   "execution_count": null,
   "id": "5d98b7c6",
   "metadata": {},
   "outputs": [],
   "source": [
    "dim_customer.write.jdbc(\n",
    "    url=jdbc_url,\n",
    "    table=\"dim_customer\",\n",
    "    mode=\"overwrite\",  \n",
    "    properties=connection_properties\n",
    ")\n",
    "dim_product.write.jdbc(url=jdbc_url, table=\"dim_product\", mode=\"overwrite\", properties=connection_properties)\n",
    "dim_location.write.jdbc(url=jdbc_url, table=\"dim_location\", mode=\"overwrite\", properties=connection_properties)\n",
    "dim_order.write.jdbc(url=jdbc_url, table=\"dim_order\", mode=\"overwrite\", properties=connection_properties)\n",
    "\n",
    "\n",
    "fact_sales.write.jdbc(\n",
    "    url=jdbc_url,\n",
    "    table=\"fact_sales\",\n",
    "    mode=\"overwrite\",  \n",
    "    properties=connection_properties\n",
    ")\n"
   ]
  }
 ],
 "metadata": {
  "kernelspec": {
   "display_name": "venv",
   "language": "python",
   "name": "python3"
  },
  "language_info": {
   "codemirror_mode": {
    "name": "ipython",
    "version": 3
   },
   "file_extension": ".py",
   "mimetype": "text/x-python",
   "name": "python",
   "nbconvert_exporter": "python",
   "pygments_lexer": "ipython3",
   "version": "3.12.3"
  }
 },
 "nbformat": 4,
 "nbformat_minor": 5
}
